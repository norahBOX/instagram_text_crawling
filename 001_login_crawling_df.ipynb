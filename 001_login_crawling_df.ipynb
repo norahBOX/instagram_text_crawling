{
 "cells": [
  {
   "cell_type": "markdown",
   "metadata": {},
   "source": [
    "# Instagram Crawler\n",
    "crawling for text, comments, and photos "
   ]
  },
  {
   "cell_type": "markdown",
   "metadata": {},
   "source": [
    "## 0. ready\n",
    "1) Make sure to install Selenium, BeautifulSoup, and ChromeDriver. <br>\n",
    "2) https://ipywidgets.readthedocs.io/en/stable/user_install.html >>tqdm\n"
   ]
  },
  {
   "cell_type": "markdown",
   "metadata": {},
   "source": [
    "## 1. import packages"
   ]
  },
  {
   "cell_type": "code",
   "execution_count": null,
   "metadata": {},
   "outputs": [],
   "source": [
    "from selenium import webdriver\n",
    "from selenium.webdriver.chrome.options import Options\n",
    "import time\n",
    "import sys\n",
    "from imp import reload\n",
    "\n",
    "######################################################\n",
    "from bs4 import BeautifulSoup as bs\n",
    "\n",
    "import re\n",
    "\n",
    "from urllib.request import urlopen\n",
    "import requests\n",
    "import datetime \n",
    "import wget\n",
    "import html2text\n",
    "\n",
    "import json\n",
    "from pandas import json_normalize\n",
    "\n",
    "import pandas as pd\n",
    "import numpy as np\n",
    "\n",
    "from random import *\n",
    "\n",
    "from tqdm.notebook import tqdm"
   ]
  },
  {
   "cell_type": "markdown",
   "metadata": {},
   "source": [
    "## 2. login "
   ]
  },
  {
   "cell_type": "code",
   "execution_count": null,
   "metadata": {
    "scrolled": true
   },
   "outputs": [],
   "source": [
    "reload(sys)\n",
    "#sys.setdefaultencoding('utf-8') python3에는 디폴트라 굳이 설정 ㄴㄴ\n",
    "\n",
    "targetInstagramUrl = 'https://www.instagram.com/accounts/login/?source=auth_switcher'\n",
    "\n",
    "options = webdriver.ChromeOptions()\n",
    "#mobile_emulation = { \"deviceName\": \"Nexus 5\" }\n",
    "#options.add_experimental_option(\"mobileEmulation\", mobile_emulation)\n",
    "\n",
    "login_id = input('put your login id : ')\n",
    "login_pw = input('put your login password : ')\n",
    "\n",
    "driver = webdriver.Chrome('chromedriver.exe', options=options)\n",
    "driver.get(targetInstagramUrl)\n",
    "\n",
    "#login process ----------------------------------------------------------------- start\n",
    "#login process ----------------------------------------------------------------- start\n",
    "time.sleep(2)\n",
    "\n",
    "driver.find_elements_by_name(\"username\")[0].send_keys(login_id)\n",
    "driver.find_elements_by_name(\"password\")[0].send_keys(login_pw)\n",
    "\n",
    "driver.find_element_by_xpath(\"//form/div[4]/button\").submit()\n",
    "\n",
    "time.sleep(3)\n",
    "\n",
    "driver.find_element_by_xpath(\"/html/body/div[4]/div/div/div[3]/button[2]\").click()\n",
    "#login process ----------------------------------------------------------------- end\n",
    "#login process ----------------------------------------------------------------- end"
   ]
  },
  {
   "cell_type": "markdown",
   "metadata": {},
   "source": [
    "## 3. search for hashtag"
   ]
  },
  {
   "cell_type": "code",
   "execution_count": null,
   "metadata": {},
   "outputs": [],
   "source": [
    "hashtag = input('What are you searching for? : ')\n",
    "driver.get('https://www.instagram.com/explore/tags/'+ hashtag)"
   ]
  },
  {
   "cell_type": "markdown",
   "metadata": {},
   "source": [
    "## 4. Get links of each posts"
   ]
  },
  {
   "cell_type": "code",
   "execution_count": null,
   "metadata": {},
   "outputs": [],
   "source": [
    "def get_post_url(count = 100) : \n",
    "\n",
    "    links = []\n",
    "    last_height = driver.execute_script(\"return document.body.scrollHeight\") # Get scroll height\n",
    "\n",
    "    while len(links) < count :\n",
    "        i = 0\n",
    "        \n",
    "        ## 1. find links in page sources\n",
    "        source = driver.page_source\n",
    "        data = bs(source, 'html.parser')\n",
    "        body = data.find('body')\n",
    "        script = body.find('div')\n",
    "        \n",
    "        pbar = tqdm(total = count)\n",
    "        for link in script.findAll('a'):\n",
    "            if re.match(\"/p\", link.get('href')):\n",
    "                links.append('https://www.instagram.com'+link.get('href'))\n",
    "                pbar.update(1)\n",
    "         \n",
    "        links = list(set(links))\n",
    "        \n",
    "        \n",
    "        \n",
    "        ## 2. Scroll down to bottom        \n",
    "        driver.execute_script(\"window.scrollTo(0, document.body.scrollHeight);\")\n",
    "\n",
    "        ## 3. Wait to load page\n",
    "        time.sleep(uniform(0, 1.0))\n",
    "\n",
    "        ## 4. Calculate new scroll height and compare with last scroll height\n",
    "        new_height = driver.execute_script(\"return document.body.scrollHeight\")\n",
    "        time.sleep(uniform(0.5, 1.0))\n",
    "        \n",
    "            \n",
    "        ## 4 - 1. if all pages are already scrolled : break.\n",
    "        if new_height == last_height:\n",
    "            break\n",
    "\n",
    "        ## 4 - 2. else : going on\n",
    "        else : \n",
    "            last_height = new_height\n",
    "    \n",
    "    pbar.close()\n",
    "    links_final = links[0:count]\n",
    "\n",
    "    return links_final"
   ]
  },
  {
   "cell_type": "code",
   "execution_count": null,
   "metadata": {},
   "outputs": [],
   "source": [
    "#test\n",
    "a = get_post_url(50)"
   ]
  },
  {
   "cell_type": "code",
   "execution_count": null,
   "metadata": {},
   "outputs": [],
   "source": [
    "len(a)"
   ]
  },
  {
   "cell_type": "code",
   "execution_count": null,
   "metadata": {},
   "outputs": [],
   "source": [
    "a"
   ]
  },
  {
   "cell_type": "markdown",
   "metadata": {},
   "source": [
    "## Get information from each link of link list"
   ]
  },
  {
   "cell_type": "code",
   "execution_count": null,
   "metadata": {},
   "outputs": [],
   "source": [
    "def info_from_post(link_list) : #get information from each link of link list\n",
    "    result = pd.DataFrame()\n",
    "    \n",
    "    for i in range(len(link_list)) : \n",
    "        try:\n",
    "\n",
    "            page = urlopen(link_list[i]).read()\n",
    "            data = bs(page, 'html.parser')\n",
    "            body = data.find('body')\n",
    "            script = body.find('script')\n",
    "            raw = script.text.strip().replace('window._sharedData =', '').replace(';', '')\n",
    "            json_data=json.loads(raw)\n",
    "\n",
    "            posts =json_data['entry_data']['PostPage'][0]['graphql']\n",
    "            posts = json.dumps(posts)\n",
    "            posts = json.loads(posts)\n",
    "\n",
    "            x = pd.DataFrame.from_dict(json_normalize(posts), orient='columns') \n",
    "            x.columns =  x.columns.str.replace(\"shortcode_media.\", \"\")\n",
    "            result = result.append(x)\n",
    "\n",
    "        except:\n",
    "            np.nan\n",
    "            \n",
    "    result = result.drop_duplicates(subset = 'shortcode')\n",
    "    result.index = range(len(result.index))\n",
    "        \n",
    "    return result\n"
   ]
  },
  {
   "cell_type": "code",
   "execution_count": null,
   "metadata": {},
   "outputs": [],
   "source": [
    "res = info_from_post(a)"
   ]
  },
  {
   "cell_type": "code",
   "execution_count": null,
   "metadata": {},
   "outputs": [],
   "source": [
    "res.head()"
   ]
  },
  {
   "cell_type": "code",
   "execution_count": null,
   "metadata": {},
   "outputs": [],
   "source": [
    "res.to_csv('savingname.csv', encoding = 'UTF-8-sig') #encoding for excel"
   ]
  },
  {
   "cell_type": "code",
   "execution_count": null,
   "metadata": {},
   "outputs": [],
   "source": []
  }
 ],
 "metadata": {
  "kernelspec": {
   "display_name": "Python 3",
   "language": "python",
   "name": "python3"
  },
  "language_info": {
   "codemirror_mode": {
    "name": "ipython",
    "version": 3
   },
   "file_extension": ".py",
   "mimetype": "text/x-python",
   "name": "python",
   "nbconvert_exporter": "python",
   "pygments_lexer": "ipython3",
   "version": "3.7.7"
  }
 },
 "nbformat": 4,
 "nbformat_minor": 2
}

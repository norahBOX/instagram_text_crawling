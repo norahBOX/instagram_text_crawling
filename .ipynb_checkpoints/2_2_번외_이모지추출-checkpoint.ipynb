{
 "cells": [
  {
   "cell_type": "code",
   "execution_count": 1,
   "metadata": {},
   "outputs": [],
   "source": [
    "import re\n",
    "import pandas as pd\n",
    "\n",
    "import requests\n",
    "import pandas as pd\n",
    "import numpy as np\n",
    "import datetime as dt\n",
    "\n",
    "import copy"
   ]
  },
  {
   "cell_type": "code",
   "execution_count": 2,
   "metadata": {},
   "outputs": [],
   "source": [
    "df = pd.read_csv('cleaning완료.csv')"
   ]
  },
  {
   "cell_type": "code",
   "execution_count": 3,
   "metadata": {},
   "outputs": [],
   "source": [
    "#다른 방법도 시도. \n",
    "import re\n",
    "import emoji\n",
    "import functools\n",
    "import operator"
   ]
  },
  {
   "cell_type": "code",
   "execution_count": 4,
   "metadata": {},
   "outputs": [],
   "source": [
    "emojilist = []\n",
    "\n",
    "for i in range(len(df)) : \n",
    "    \n",
    "    word = df['comment_text'][i]\n",
    "    #print(i)\n",
    "    \n",
    "    try :\n",
    "\n",
    "        a = re.findall(\"[\"\n",
    "                u\"\\U0001F600-\\U0001F64F\"  # emoticons\n",
    "                u\"\\U0001F300-\\U0001F5FF\"  # symbols & pictographs\n",
    "                u\"\\U0001F680-\\U0001F6FF\"  # transport & map symbols\n",
    "                u\"\\U0001F1E0-\\U0001F1FF\"  # flags (iOS)\n",
    "                u\"\\U0001F1F2-\\U0001F1F4\"  # Macau flag\n",
    "                u\"\\U0001F1E6-\\U0001F1FF\"  # flags\n",
    "                u\"\\U0001F600-\\U0001F64F\"\n",
    "                u\"\\U00002702-\\U000027B0\"\n",
    "        #        u\"\\U000024C2-\\U0001F251\" 이거 왜 한글 나오냐\n",
    "                u\"\\U0001f926-\\U0001f937\"\n",
    "                u\"\\U0001F1F2\"\n",
    "                u\"\\U0001F1F4\"\n",
    "                u\"\\U0001F620\"\n",
    "                u\"\\u200d\"\n",
    "                u\"\\u2640-\\u2642\"\n",
    "                \"]+\", word, flags = re.UNICODE)\n",
    "\n",
    "        a = list(set(a))\n",
    "\n",
    "\n",
    "        for j in a : \n",
    "            em = j\n",
    "            em_split_emoji = emoji.get_emoji_regexp().split(em)\n",
    "            em_split_whitespace = [substr.split() for substr in em_split_emoji]\n",
    "            em_split = functools.reduce(operator.concat, em_split_whitespace)\n",
    "\n",
    "            emojilist += em_split\n",
    "            \n",
    "    except : \n",
    "        np.nan"
   ]
  },
  {
   "cell_type": "code",
   "execution_count": 5,
   "metadata": {},
   "outputs": [
    {
     "name": "stdout",
     "output_type": "stream",
     "text": [
      "['🙊', '💖', '💗', '😺', '🍵', '💘', '✋🏻', '💪🏻', '😇', '🍳', '💓', '🌸', '👋', '💜', '🙋', '🍓', '😏', '✍', '👀', '🎹', '🎄', '😻', '🍋', '💌', '❣', '🏙', '✔', '🖤', '💦', '😉', '🙂', '🐈', '😄', '😞', '🙄', '💪🏽', '🇧🇷', '💛', '🌌', '✌', '🖼', '💋', '🎀', '🔥', '🐰', '✈', '🙈', '👍', '👋🏻', '🍒', '🏻', '✍🏻', '💔', '🎉', '💎', '🙌🏼', '🎶', '🐥', '👌', '🌈', '😁', '😢', '🌼', '👒', '🌝', '😳', '😑', '🛍', '🍊', '😅', '😂', '😷', '😸', '👍🏻', '👄', '👍🏼', '🙀', '🍹', '🎈', '🕺', '😃', '🙌🏻', '💡', '📩', '😎', '💝', '💯', '🌠', '😬', '👏🏿', '🙏', '😊', '🏹', '😚', '🔆', '😀', '😗', '😋', '🙋🏻', '🌧', '🌉', '💕', '🎊', '🙌', '💚', '👏🏻', '💐', '💪🏼', '💩', '😭', '💪', '🤦🏻', '🎁', '😽', '🍀', '😮', '🙏🏻', '😌', '😘', '😆', '👑', '🌷', '😍', '🌹', '🌆', '👏🏼', '🌃', '🐶', '🎨', '🔝', '💙', '😝', '😵', '🎼', '❤', '😱', '🌿', '🌺', '🤦', '🙆🏻', '💃', '👏', '🍷', '✨', '👌🏻', '💞', '🌻', '♀']\n"
     ]
    }
   ],
   "source": [
    "emojilist2 = list(set(emojilist))\n",
    "print(emojilist2)"
   ]
  },
  {
   "cell_type": "markdown",
   "metadata": {},
   "source": [
    "## 이걸 사전에 넣도록 하겠습니다.\n",
    "꼬꼬마?"
   ]
  },
  {
   "cell_type": "code",
   "execution_count": 6,
   "metadata": {},
   "outputs": [],
   "source": [
    "pp = \"\"\"\n",
    "'😂', '💕', '😍', '🌈', '🙏🏼', '🙃', '🎉', '👍🏻', '💖', '😶', '😹', '✨', '😬', '🤦🏼', '🔫', '✍', '🎀', '💡', '🙆', '😀', '👿', '✉', '🌹', '🍁', '🙏', '😉', '💗', '💓', '😚', '💎', '😃', '👺', '😩', '😁', '😡', '🐈', '😇', '😝', '💥', '🏼', '📖', '💛', '😊', '🙌', '🌊', '♂', '💟', '📚', '🍀', '💪', '🎶', '💙', '👏🏼', '😏', '🤷🏻', '🙆🏻', '👹', '😲', '🏻', '💚', '💐', '🙊', '🐥', '👋', '📂', '😸', '😎', '💜', '👏', '😆', '🙇', '😌', '🌝', '👩🏻', '👏🏻', '😳', '🔖', '💘', '🌲', '😑', '🙈', '🖤', '✊', '👍', '🙌🏻', '🐻', '🔥', '🙇🏿', '👽', '🎁', '👉', '👀', '😅', '🎊', '🙏🏿', '💻', '😻', '👈', '🐸', '🙏🏻', '😘', '❣', '🤧', '♀', '🙂', '🌷', '👍🏼', '🐶', '❤', '🐰', '😢', '🙋', '😄', '😤', '😮', '😭', '💞'\n",
    "\"\"\""
   ]
  },
  {
   "cell_type": "code",
   "execution_count": 7,
   "metadata": {},
   "outputs": [
    {
     "data": {
      "text/plain": [
       "'\\n😂 💕 😍 🌈 🙏🏼 🙃 🎉 👍🏻 💖 😶 😹 ✨ 😬 🤦🏼 🔫 ✍ 🎀 💡 🙆 😀 👿 ✉ 🌹 🍁 🙏 😉 💗 💓 😚 💎 😃 👺 😩 😁 😡 🐈 😇 😝 💥 🏼 📖 💛 😊 🙌 🌊 ♂ 💟 📚 🍀 💪 🎶 💙 👏🏼 😏 🤷🏻 🙆🏻 👹 😲 🏻 💚 💐 🙊 🐥 👋 📂 😸 😎 💜 👏 😆 🙇 😌 🌝 👩🏻 👏🏻 😳 🔖 💘 🌲 😑 🙈 🖤 ✊ 👍 🙌🏻 🐻 🔥 🙇🏿 👽 🎁 👉 👀 😅 🎊 🙏🏿 💻 😻 👈 🐸 🙏🏻 😘 ❣ 🤧 ♀ 🙂 🌷 👍🏼 🐶 ❤ 🐰 😢 🙋 😄 😤 😮 😭 💞\\n'"
      ]
     },
     "execution_count": 7,
     "metadata": {},
     "output_type": "execute_result"
    }
   ],
   "source": [
    "re.sub(\",|'\",'',pp)"
   ]
  },
  {
   "cell_type": "code",
   "execution_count": 8,
   "metadata": {},
   "outputs": [],
   "source": [
    "\n",
    "emojilist = []\n",
    "\n",
    "for i in range(len(df)) : \n",
    "    \n",
    "    word = df['comment_text'][i]\n",
    "    #print(i)\n",
    "    \n",
    "    try :\n",
    "\n",
    "        a = re.findall(\"[\"\n",
    "                u\"\\U0001F600-\\U0001F64F\"  # emoticons\n",
    "                u\"\\U0001F300-\\U0001F5FF\"  # symbols & pictographs\n",
    "                u\"\\U0001F680-\\U0001F6FF\"  # transport & map symbols\n",
    "                u\"\\U0001F1E0-\\U0001F1FF\"  # flags (iOS)\n",
    "                u\"\\U0001F1F2-\\U0001F1F4\"  # Macau flag\n",
    "                u\"\\U0001F1E6-\\U0001F1FF\"  # flags\n",
    "                u\"\\U0001F600-\\U0001F64F\"\n",
    "                u\"\\U00002702-\\U000027B0\"\n",
    "        #        u\"\\U000024C2-\\U0001F251\" 이거 왜 한글 나오냐\n",
    "                u\"\\U0001f926-\\U0001f937\"\n",
    "                u\"\\U0001F1F2\"\n",
    "                u\"\\U0001F1F4\"\n",
    "                u\"\\U0001F620\"\n",
    "                u\"\\u200d\"\n",
    "                u\"\\u2640-\\u2642\"\n",
    "                \"]+\", word, flags = re.UNICODE)\n",
    "\n",
    "        a = list(set(a))\n",
    "\n",
    "\n",
    "        for j in a : \n",
    "            em = j\n",
    "            em_split_emoji = emoji.get_emoji_regexp().split(em)\n",
    "            em_split_whitespace = [substr.split() for substr in em_split_emoji]\n",
    "            em_split = functools.reduce(operator.concat, em_split_whitespace)\n",
    "\n",
    "            emojilist += em_split\n",
    "            \n",
    "    except : \n",
    "        np.nan"
   ]
  },
  {
   "cell_type": "code",
   "execution_count": 11,
   "metadata": {},
   "outputs": [],
   "source": [
    "a = re.findall(\"[\"\n",
    "                u\"\\U0001F600-\\U0001F64F\"  # emoticons\n",
    "                u\"\\U0001F300-\\U0001F5FF\"  # symbols & pictographs\n",
    "                u\"\\U0001F680-\\U0001F6FF\"  # transport & map symbols\n",
    "                u\"\\U0001F1E0-\\U0001F1FF\"  # flags (iOS)\n",
    "                u\"\\U0001F1F2-\\U0001F1F4\"  # Macau flag\n",
    "                u\"\\U0001F1E6-\\U0001F1FF\"  # flags\n",
    "                u\"\\U0001F600-\\U0001F64F\"\n",
    "                u\"\\U00002702-\\U000027B0\"\n",
    "        #        u\"\\U000024C2-\\U0001F251\" 이거 왜 한글 나오냐\n",
    "                u\"\\U0001f926-\\U0001f937\"\n",
    "                u\"\\U0001F1F2\"\n",
    "                u\"\\U0001F1F4\"\n",
    "                u\"\\U0001F620\"\n",
    "                u\"\\u200d\"\n",
    "                u\"\\u2640-\\u2642\"\n",
    "                \"]+\", emoji_text[0], flags = re.UNICODE)"
   ]
  },
  {
   "cell_type": "code",
   "execution_count": 12,
   "metadata": {},
   "outputs": [],
   "source": [
    "for j in a : \n",
    "            em = j\n",
    "            em_split_emoji = emoji.get_emoji_regexp().split(em)\n",
    "            em_split_whitespace = [substr.split() for substr in em_split_emoji]\n",
    "            em_split = functools.reduce(operator.concat, em_split_whitespace)\n",
    "\n",
    "            emojilist += em_split"
   ]
  }
 ],
 "metadata": {
  "kernelspec": {
   "display_name": "Python 3",
   "language": "python",
   "name": "python3"
  },
  "language_info": {
   "codemirror_mode": {
    "name": "ipython",
    "version": 3
   },
   "file_extension": ".py",
   "mimetype": "text/x-python",
   "name": "python",
   "nbconvert_exporter": "python",
   "pygments_lexer": "ipython3",
   "version": "3.7.7"
  }
 },
 "nbformat": 4,
 "nbformat_minor": 2
}

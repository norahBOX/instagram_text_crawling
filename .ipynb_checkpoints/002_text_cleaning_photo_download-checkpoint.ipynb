{
 "cells": [
  {
   "cell_type": "markdown",
   "metadata": {},
   "source": [
    "# 텍스트 정제 text cleaning\n",
    "regex를 이용해서.."
   ]
  },
  {
   "cell_type": "code",
   "execution_count": 1,
   "metadata": {},
   "outputs": [],
   "source": [
    "import re\n",
    "import pandas as pd\n",
    "\n",
    "import requests\n",
    "import pandas as pd\n",
    "import datetime as dt\n",
    "\n",
    "import copy\n",
    "\n",
    "from tqdm.notebook import tqdm\n",
    "import time"
   ]
  },
  {
   "cell_type": "code",
   "execution_count": 2,
   "metadata": {},
   "outputs": [],
   "source": [
    "df = pd.read_csv('crawling_df.csv')"
   ]
  },
  {
   "cell_type": "code",
   "execution_count": 3,
   "metadata": {},
   "outputs": [],
   "source": [
    "new_df = copy.deepcopy(df.filter(['taken_at_timestamp' ,'owner.username','edge_media_to_caption.edges',\n",
    "                    'edge_media_to_parent_comment.edges', 'edge_media_preview_like.count', 'display_url' , 'shortcode'],\n",
    "                   axis = 1))"
   ]
  },
  {
   "cell_type": "code",
   "execution_count": 4,
   "metadata": {},
   "outputs": [],
   "source": [
    "new_df.columns = ['timestamp', 'username', 'post_text', 'comment_text', 'likes', 'pic_url', 'shortcode']"
   ]
  },
  {
   "cell_type": "code",
   "execution_count": 5,
   "metadata": {},
   "outputs": [],
   "source": [
    "##1. 날짜정보 변환\n",
    "\n",
    "for i in range(len(new_df)) : \n",
    "    new_df.loc[i, \"timestamp\"] = dt.datetime.fromtimestamp(new_df.loc[i, \"timestamp\"])"
   ]
  },
  {
   "cell_type": "code",
   "execution_count": 6,
   "metadata": {},
   "outputs": [
    {
     "data": {
      "text/plain": [
       "(207, 7)"
      ]
     },
     "execution_count": 6,
     "metadata": {},
     "output_type": "execute_result"
    }
   ],
   "source": [
    "new_df.shape"
   ]
  },
  {
   "cell_type": "code",
   "execution_count": 7,
   "metadata": {},
   "outputs": [
    {
     "data": {
      "application/vnd.jupyter.widget-view+json": {
       "model_id": "341525dea80b4c4fabaec2dfe7f3bdc7",
       "version_major": 2,
       "version_minor": 0
      },
      "text/plain": [
       "HBox(children=(FloatProgress(value=0.0, max=207.0), HTML(value='')))"
      ]
     },
     "metadata": {},
     "output_type": "display_data"
    },
    {
     "name": "stdout",
     "output_type": "stream",
     "text": [
      "\n"
     ]
    }
   ],
   "source": [
    "#2. post_text정제\n",
    "#지옥의 정규식\n",
    "\n",
    "pattern1 = '\\\\\\\\n'\n",
    "pattern2 = \"\\[|\\]|\\{|\\}|'text'|'node'|:|['']|#\"\n",
    "#pattern3 = \"#\"\n",
    "pbar = tqdm(total = len(new_df))\n",
    "for i in range(len(new_df)) : \n",
    "    text = copy.deepcopy(new_df.loc[i, 'post_text'])\n",
    "    \n",
    "    #1차 \n",
    "    a1 = re.sub(pattern1, ' ' , text)\n",
    "    \n",
    "    #2차\n",
    "    a2 = re.sub(pattern2, ' ', a1) \n",
    "    \n",
    "    #3차\n",
    "    a3 = a2.strip()\n",
    "    \n",
    "    new_df.loc[i, 'post_text'] = a3\n",
    "    pbar.update()\n",
    "    \n",
    "pbar.close()"
   ]
  },
  {
   "cell_type": "code",
   "execution_count": 8,
   "metadata": {},
   "outputs": [
    {
     "data": {
      "text/html": [
       "<div>\n",
       "<style scoped>\n",
       "    .dataframe tbody tr th:only-of-type {\n",
       "        vertical-align: middle;\n",
       "    }\n",
       "\n",
       "    .dataframe tbody tr th {\n",
       "        vertical-align: top;\n",
       "    }\n",
       "\n",
       "    .dataframe thead th {\n",
       "        text-align: right;\n",
       "    }\n",
       "</style>\n",
       "<table border=\"1\" class=\"dataframe\">\n",
       "  <thead>\n",
       "    <tr style=\"text-align: right;\">\n",
       "      <th></th>\n",
       "      <th>timestamp</th>\n",
       "      <th>username</th>\n",
       "      <th>post_text</th>\n",
       "      <th>comment_text</th>\n",
       "      <th>likes</th>\n",
       "      <th>pic_url</th>\n",
       "      <th>shortcode</th>\n",
       "    </tr>\n",
       "  </thead>\n",
       "  <tbody>\n",
       "    <tr>\n",
       "      <th>0</th>\n",
       "      <td>2020-05-01 01:19:31</td>\n",
       "      <td>zyhxxn</td>\n",
       "      <td>뒤통수 전문</td>\n",
       "      <td>[]</td>\n",
       "      <td>71</td>\n",
       "      <td>https://scontent-ssn1-1.cdninstagram.com/v/t51...</td>\n",
       "      <td>B_nIlwRHcoR</td>\n",
       "    </tr>\n",
       "    <tr>\n",
       "      <th>1</th>\n",
       "      <td>2020-05-01 14:48:30</td>\n",
       "      <td>xxung___irene</td>\n",
       "      <td>부산은 완~전~여~름~☀️ .  광안리해수욕장</td>\n",
       "      <td>[{'node': {'id': '17857030936917325', 'text': ...</td>\n",
       "      <td>23</td>\n",
       "      <td>https://scontent-ssn1-1.cdninstagram.com/v/t51...</td>\n",
       "      <td>B_olK6YHULG</td>\n",
       "    </tr>\n",
       "    <tr>\n",
       "      <th>2</th>\n",
       "      <td>2020-05-06 03:09:35</td>\n",
       "      <td>gut_karma</td>\n",
       "      <td></td>\n",
       "      <td>[{'node': {'id': '17842799498160152', 'text': ...</td>\n",
       "      <td>11</td>\n",
       "      <td>https://scontent-ssn1-1.cdninstagram.com/v/t51...</td>\n",
       "      <td>B_0NKSuF1Mx</td>\n",
       "    </tr>\n",
       "    <tr>\n",
       "      <th>3</th>\n",
       "      <td>2020-05-04 18:44:51</td>\n",
       "      <td>checkinbusan</td>\n",
       "      <td>- 일정 다 접고 바로 집에 가도 여한 없을 것 같은..😅1시간 기다려 담은 올해 ...</td>\n",
       "      <td>[{'node': {'id': '17854492351954974', 'text': ...</td>\n",
       "      <td>1181</td>\n",
       "      <td>https://scontent-ssn1-1.cdninstagram.com/v/t51...</td>\n",
       "      <td>B_wumnADqf2</td>\n",
       "    </tr>\n",
       "    <tr>\n",
       "      <th>4</th>\n",
       "      <td>2020-05-06 07:23:15</td>\n",
       "      <td>rlawldus1004</td>\n",
       "      <td>부산  해운대  westinchosun  수변공원  민락회센터 날씨좋고 바람좋고 친...</td>\n",
       "      <td>[{'node': {'id': '18103492210086817', 'text': ...</td>\n",
       "      <td>50</td>\n",
       "      <td>https://scontent-ssn1-1.cdninstagram.com/v/t51...</td>\n",
       "      <td>B_0qMLRDtii</td>\n",
       "    </tr>\n",
       "  </tbody>\n",
       "</table>\n",
       "</div>"
      ],
      "text/plain": [
       "             timestamp       username  \\\n",
       "0  2020-05-01 01:19:31         zyhxxn   \n",
       "1  2020-05-01 14:48:30  xxung___irene   \n",
       "2  2020-05-06 03:09:35      gut_karma   \n",
       "3  2020-05-04 18:44:51   checkinbusan   \n",
       "4  2020-05-06 07:23:15   rlawldus1004   \n",
       "\n",
       "                                           post_text  \\\n",
       "0                                             뒤통수 전문   \n",
       "1                          부산은 완~전~여~름~☀️ .  광안리해수욕장   \n",
       "2                                                      \n",
       "3  - 일정 다 접고 바로 집에 가도 여한 없을 것 같은..😅1시간 기다려 담은 올해 ...   \n",
       "4  부산  해운대  westinchosun  수변공원  민락회센터 날씨좋고 바람좋고 친...   \n",
       "\n",
       "                                        comment_text  likes  \\\n",
       "0                                                 []     71   \n",
       "1  [{'node': {'id': '17857030936917325', 'text': ...     23   \n",
       "2  [{'node': {'id': '17842799498160152', 'text': ...     11   \n",
       "3  [{'node': {'id': '17854492351954974', 'text': ...   1181   \n",
       "4  [{'node': {'id': '18103492210086817', 'text': ...     50   \n",
       "\n",
       "                                             pic_url    shortcode  \n",
       "0  https://scontent-ssn1-1.cdninstagram.com/v/t51...  B_nIlwRHcoR  \n",
       "1  https://scontent-ssn1-1.cdninstagram.com/v/t51...  B_olK6YHULG  \n",
       "2  https://scontent-ssn1-1.cdninstagram.com/v/t51...  B_0NKSuF1Mx  \n",
       "3  https://scontent-ssn1-1.cdninstagram.com/v/t51...  B_wumnADqf2  \n",
       "4  https://scontent-ssn1-1.cdninstagram.com/v/t51...  B_0qMLRDtii  "
      ]
     },
     "execution_count": 8,
     "metadata": {},
     "output_type": "execute_result"
    }
   ],
   "source": [
    "new_df.head()"
   ]
  },
  {
   "cell_type": "code",
   "execution_count": 9,
   "metadata": {},
   "outputs": [
    {
     "name": "stdout",
     "output_type": "stream",
     "text": [
      "뒤통수 전문\n",
      "부산은 완~전~여~름~☀️ .  광안리해수욕장\n",
      "\n",
      "- 일정 다 접고 바로 집에 가도 여한 없을 것 같은..😅1시간 기다려 담은 올해 첫 그러한..부산스러워 더 마음에 드는 사진 -  為了等照片中的路人甲經過🚶 魯蛋大叔在那等了1個小時... 但他很滿意, 因為有拍出自己心中的 釜山印象 你們的釜山印象是什麼呢? 🤗 . . ♡微工商時間♡ 疫情讓店內生意大受影響,  意外開啟了小小選物店的副業,  臉書搜尋 『Check in Busan 小小選物店』  首批商品是文青簡約風的   韓國棉被🔥花色好療癒 ꈍ◡ꈍ   陸續會再推出韓國家居or文具商品  有興趣的人可以進臉書社團逛逛喔◡̈ -  This photo is the result of a 1 hour’ stand, awaiting the passing figure and the proper moment. I like it because it represents part of real Busan in my mind. What does Busan mean to you? 🤗\n",
      "부산  해운대  westinchosun  수변공원  민락회센터 날씨좋고 바람좋고 친구  더좋고~  그림같은 여기는 삶에 쪄든 직딩의 안식처로세~  김양일상  부산여행  힐링  바다  하늘  여유  감성  사진   패션스타그램  ootd  패피  욜로  직장인일탈\n"
     ]
    }
   ],
   "source": [
    "for i in range(5) : \n",
    "    print(new_df.loc[i, 'post_text'])"
   ]
  },
  {
   "cell_type": "code",
   "execution_count": 10,
   "metadata": {},
   "outputs": [
    {
     "data": {
      "application/vnd.jupyter.widget-view+json": {
       "model_id": "cbd015898d294d15964c18d662014694",
       "version_major": 2,
       "version_minor": 0
      },
      "text/plain": [
       "HBox(children=(FloatProgress(value=0.0, max=207.0), HTML(value='')))"
      ]
     },
     "metadata": {},
     "output_type": "display_data"
    },
    {
     "name": "stdout",
     "output_type": "stream",
     "text": [
      "\n"
     ]
    }
   ],
   "source": [
    "#3. comment_text 정제\n",
    "#지옥의 정규식...\n",
    "\n",
    "pbar = tqdm(total = len(new_df))\n",
    "\n",
    "for i in range(len(new_df)) : \n",
    "    text = copy.deepcopy(new_df.loc[i, 'comment_text'])\n",
    "    \n",
    "    b = text.split(',')\n",
    "    \n",
    "    b2 = str()\n",
    "    \n",
    "    for j in range(len(b)) : \n",
    "        if bool(re.search('text', b[j])) == True : \n",
    "            b2 = b2 + b[j]\n",
    "            \n",
    "    b3 = re.sub(\"'text'|'|@[a-z0-9_.]+|:\", '', b2)\n",
    "    b4 = re.sub(\"#\", ' ', b3)\n",
    "\n",
    "    new_df.loc[i, 'comment_text'] = b4\n",
    "    \n",
    "    pbar.update()\n",
    "    \n",
    "pbar.close()"
   ]
  },
  {
   "cell_type": "code",
   "execution_count": 11,
   "metadata": {
    "scrolled": false
   },
   "outputs": [
    {
     "name": "stdout",
     "output_type": "stream",
     "text": [
      "\n",
      "  헐 부산이라뇨? 전 해운대입니다만 👀👏🏻   헛 나 해운대 먼저 갔다가 지금 광안리야ㅋㅋㅋㅋ  갑자기 부산이요???   ㅋㅋㅋㅋㅋㅋㅋ동번서번입니다🤗  완전 한적하네 부러버   사람 바글바글인데 다 지워버렸어...^^!  🌼    부산 광안리 국내여행 부산여행 인스타데일리 일상스타그램 일상\n",
      "  ✌🏻   부산 해운대 밤바다 부산여행 부산가볼만한곳 셀피 셀카 셀스타그램 오오티디 아웃핏 좋아요 좋반 소통 팔로우 busan selfie ootd instagood fff  최근 게시물 2개 반사요!\n",
      "  👏    부산여행 대한민국구석구석 국내여행 감성작가 여행지추천 사진에미치다 사진의언어 소니이미지갤러리 나의사진이야기 색감미술관 갬성스타그램 소니미러리스 사진에관하여 부산데이트 호천마을 산복도로 소니미러리스 쌈마이웨이 부산여행추천 부산가볼만한곳\\n busan busantravel busantrip koreabyme triptokorea koreatrip 釜山 sonya7m3  이곳이 김지원과 박서준이 드라마 찍었던 동네 아녜요?   쌈마이웨이요!😊   저 계단에서 앞을 보면 바다 보여요?  啊！！我想起三流之路的南日BAR 真的超漂亮    厲害～👍 就是虎泉村喔😊  「釜山人 」都好親切 很容易和陌生人聊天（語言沒有很通但還是可以很開心\\n真的很喜歡釜山誒    好喜歡這個答案😊 謝謝分享💛  와우 사장님 날씨도 더운데 고생많으셨겠어요!!   계단 몇번 오르내리다 기절할뻔 뭐하고 지냄??   저야 뭐..놀고먹기 중입니다..  😃💙💚💛🧡❤️🥰👍👍👍    Thank you! 😊  已加😏    哈哈 謝謝注意到廣告😍  人很親切 海很美    簡單一句話，道盡釜山的樣貌👏👏👏  這是草梁故事路嘛！夢幻！    是虎泉村～ 韓劇三流之路的拍攝地點😊   哈哈，謝謝！收入口袋名單V(^_^)V  부산스럽다는 문구가 정말 공감되어요. 정비되는게 좋겠지만   맞아요! 오랫동안 담을수 있었으면 좋겠어요 산복도로가 하나둘 사라져 가고있어 사진들이 더 소중하네요😊    giống trong fight for my way nhể m   có khi lại đúng🙄  오와 여기 아는곳인것 같은데 다른곳 같은 느낌마저 드는 멋진 사진이네요🤭   너무나도 매력적인 신복도로의 풍경입니다👏감사합니다😊   da jag ich dich hoch. The stairs to the stars😉   morgendliches work out ? Musst du aber auch mitmachen 😎   ich habe schon einmal geschafft😉dann geht auch ein zweites mal  等一個人🤣    等一個人但手上沒咖啡，下次買杯咖啡等😂  👏🏻wow!!   Thank you😊  曾經走過的路 覺得親切    這裡美美的😍  Fight For My Way. 💕💕   💛💛   we just figured out it’s the English name of that drama! 😂 You’re right~ it’s the drama shooting place. 👏👏   Yes. One of my faves. Hope to go there soon. 😊🙏  알록달록 👀   산복도로 매력!💛  알록달록하니 귀여운 동네네요😆  여기는 처음 보는데 알록달록하고 계단도 매력적이네요😍👍  \"Wow I will go to Busan this weekend ! Cant wait to see this !😍\"    it’s one of Fight For My Way’s shooting locations. 💛 it’s near Namil Bar 😊  색감이 되게 이쁘네요~🙂💕🌿\n",
      "  재미나게 놀다가세유👍   이미현실ㅜㅜ  언제 온겨?   스피디하게 댕겨온겨~ㅋ  제 고향 해운대를 다녀오셨군요? ㅎㅎ 날이 좋아서 힐링하셨겠네요~  고향 다녀온 기분이겠구만~~  홀쭉해졌네👍\n",
      "  @𝒮𝒾𝓈𝓉𝑒𝓇𝓈_𝓯𝓸𝓸𝓭𝓼𝓽𝓪𝓰𝓻𝓪𝓶  follow food foodie foodstagram\\n 푸드스타그램 먹스타그램 맛스타그램\\n 음식스타그램 선팔하면맞팔 선팔 맞팔\\n 소통 좋아요 좋반 좋아요반사 부산여행\\n 부산맛집 부산맛집추천 광안리브런치카페  광안리브런치 광안리맛집 광안리맛집추천\\n 페로어페로\n",
      "  🔥    부산맛집  정관맛집  부산여행  정관  정관신도시  샤브샤브  월남쌈  샤브파티야  정관샤브파티야  맛스타그램  먹스타그램  일상스타그램  좋아요반사  소통  lfl  l4l\n",
      "\n",
      "   해운대요가 부산요가 광안리요가 마린시티요가 부산플라잉요가 해운대플라잉요가 광안리플라잉요가 센텀요가 센텀플라잉요가 송정서핑 서핑 부산여행 부산여행코스 부산여행추천 부산맛집 부산여행중 광안리서핑 해운대맛집 송정맛집 요가스타그램 운스타그램  오~~ 😯👍💫   \\n 부산데이트 부산데이트코스\\n👍✨  요가하고 서핑도하고👍🏻👍🏻\\n다음에 꼭 저도 갈래요😭\\n 송정핫플  서핑트립  원장님 6월에도 진행 해 주세요 🙏🏻 5월31일 시간이 안돼서 참석 못해용 😢  꺅 재밌겠다♥️  우와ㅏㅏㅏㅏㅏㅏ😆😆 멋져요  기획 대박ㅜㅜㅜㅜㅜㅜㅜㅜ🙏🏻🙏🏻  오오~~~~~~👏👏👏  우와 이거대박 ㅜㅜ발목만 안다쳤어도 ㅠㅠ 쌤이거또해주세요 ㅋㅋㅋㅋ👍🏻👍🏻  와아 재밌겠다~~\n",
      "   F1963  f1963테라로사  테라로사카페 \\n 부산  부산여행  부산카페  부산카페추천\\n 국내여행  국내여행지추천\\n 직장인  직장인스타그램  직장인커플\\n 럽스타  럽스타그램  love\\n 휴가  휴일  연휴\\n 커피  카페  커피스타그램  카페스타그램\n"
     ]
    }
   ],
   "source": [
    "for i in range(10) : \n",
    "    print(new_df.loc[i, 'comment_text'])"
   ]
  },
  {
   "cell_type": "code",
   "execution_count": 12,
   "metadata": {},
   "outputs": [],
   "source": [
    "new_df.to_csv('cleaning완료.csv', encoding = 'utf-8-sig')"
   ]
  },
  {
   "cell_type": "markdown",
   "metadata": {},
   "source": [
    "## 사진 추출"
   ]
  },
  {
   "cell_type": "code",
   "execution_count": 13,
   "metadata": {},
   "outputs": [
    {
     "data": {
      "application/vnd.jupyter.widget-view+json": {
       "model_id": "a133e2bdee684ce493e6645d7c54010e",
       "version_major": 2,
       "version_minor": 0
      },
      "text/plain": [
       "HBox(children=(FloatProgress(value=0.0, max=207.0), HTML(value='')))"
      ]
     },
     "metadata": {},
     "output_type": "display_data"
    },
    {
     "ename": "KeyboardInterrupt",
     "evalue": "",
     "output_type": "error",
     "traceback": [
      "\u001b[1;31m---------------------------------------------------------------------------\u001b[0m",
      "\u001b[1;31mKeyboardInterrupt\u001b[0m                         Traceback (most recent call last)",
      "\u001b[1;32m<ipython-input-13-c79e306593a0>\u001b[0m in \u001b[0;36m<module>\u001b[1;34m\u001b[0m\n\u001b[0;32m      8\u001b[0m \u001b[1;32mfor\u001b[0m \u001b[0mi\u001b[0m \u001b[1;32min\u001b[0m \u001b[0mrange\u001b[0m\u001b[1;33m(\u001b[0m\u001b[0mlen\u001b[0m\u001b[1;33m(\u001b[0m\u001b[0mnew_df\u001b[0m\u001b[1;33m)\u001b[0m\u001b[1;33m)\u001b[0m \u001b[1;33m:\u001b[0m\u001b[1;33m\u001b[0m\u001b[1;33m\u001b[0m\u001b[0m\n\u001b[0;32m      9\u001b[0m     req.urlretrieve(url = new_df.loc[i,'pic_url'], \n\u001b[1;32m---> 10\u001b[1;33m                     filename = dir_name + '/' + photo_name + str(i) + \".jpg\")\n\u001b[0m\u001b[0;32m     11\u001b[0m     \u001b[0mpbar\u001b[0m\u001b[1;33m.\u001b[0m\u001b[0mupdate\u001b[0m\u001b[1;33m(\u001b[0m\u001b[1;33m)\u001b[0m\u001b[1;33m\u001b[0m\u001b[1;33m\u001b[0m\u001b[0m\n\u001b[0;32m     12\u001b[0m \u001b[0mpbar\u001b[0m\u001b[1;33m.\u001b[0m\u001b[0mclose\u001b[0m\u001b[1;33m(\u001b[0m\u001b[1;33m)\u001b[0m\u001b[1;33m\u001b[0m\u001b[1;33m\u001b[0m\u001b[0m\n",
      "\u001b[1;32m~\\anaconda3\\lib\\urllib\\request.py\u001b[0m in \u001b[0;36murlretrieve\u001b[1;34m(url, filename, reporthook, data)\u001b[0m\n\u001b[0;32m    255\u001b[0m         \u001b[1;31m# Handle temporary file setup.\u001b[0m\u001b[1;33m\u001b[0m\u001b[1;33m\u001b[0m\u001b[1;33m\u001b[0m\u001b[0m\n\u001b[0;32m    256\u001b[0m         \u001b[1;32mif\u001b[0m \u001b[0mfilename\u001b[0m\u001b[1;33m:\u001b[0m\u001b[1;33m\u001b[0m\u001b[1;33m\u001b[0m\u001b[0m\n\u001b[1;32m--> 257\u001b[1;33m             \u001b[0mtfp\u001b[0m \u001b[1;33m=\u001b[0m \u001b[0mopen\u001b[0m\u001b[1;33m(\u001b[0m\u001b[0mfilename\u001b[0m\u001b[1;33m,\u001b[0m \u001b[1;34m'wb'\u001b[0m\u001b[1;33m)\u001b[0m\u001b[1;33m\u001b[0m\u001b[1;33m\u001b[0m\u001b[0m\n\u001b[0m\u001b[0;32m    258\u001b[0m         \u001b[1;32melse\u001b[0m\u001b[1;33m:\u001b[0m\u001b[1;33m\u001b[0m\u001b[1;33m\u001b[0m\u001b[0m\n\u001b[0;32m    259\u001b[0m             \u001b[0mtfp\u001b[0m \u001b[1;33m=\u001b[0m \u001b[0mtempfile\u001b[0m\u001b[1;33m.\u001b[0m\u001b[0mNamedTemporaryFile\u001b[0m\u001b[1;33m(\u001b[0m\u001b[0mdelete\u001b[0m\u001b[1;33m=\u001b[0m\u001b[1;32mFalse\u001b[0m\u001b[1;33m)\u001b[0m\u001b[1;33m\u001b[0m\u001b[1;33m\u001b[0m\u001b[0m\n",
      "\u001b[1;31mKeyboardInterrupt\u001b[0m: "
     ]
    }
   ],
   "source": [
    "import os\n",
    "import urllib.request as req\n",
    "\n",
    "dir_name = \"prod_imgs\"\n",
    "os.makedirs(dir_name, exist_ok = True) #새로 폴더 만들어 + 부드럽게 실행시킬수있는 옵션\n",
    "photo_name = \"name\"\n",
    "pbar = tqdm(total = len(new_df))\n",
    "for i in range(len(new_df)) : \n",
    "    req.urlretrieve(url = new_df.loc[i,'pic_url'], \n",
    "                    filename = dir_name + '/' + photo_name + str(i) + \".jpg\")\n",
    "    pbar.update()\n",
    "pbar.close()"
   ]
  }
 ],
 "metadata": {
  "kernelspec": {
   "display_name": "Python 3",
   "language": "python",
   "name": "python3"
  },
  "language_info": {
   "codemirror_mode": {
    "name": "ipython",
    "version": 3
   },
   "file_extension": ".py",
   "mimetype": "text/x-python",
   "name": "python",
   "nbconvert_exporter": "python",
   "pygments_lexer": "ipython3",
   "version": "3.7.7"
  }
 },
 "nbformat": 4,
 "nbformat_minor": 2
}

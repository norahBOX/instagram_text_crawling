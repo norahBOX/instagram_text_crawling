{
 "cells": [
  {
   "cell_type": "markdown",
   "metadata": {},
   "source": [
    "# 3. textmining - wordcloud"
   ]
  },
  {
   "cell_type": "code",
   "execution_count": null,
   "metadata": {},
   "outputs": [],
   "source": [
    "import konlpy\n",
    "import pandas as pd\n",
    "#https://wikidocs.net/21698\n",
    "#https://myjamong.tistory.com/48\n",
    "#https://lovit.github.io/nlp/2018/04/17/word_cloud/\n",
    "#https://amueller.github.io/word_cloud/auto_examples/colored_by_group.html"
   ]
  },
  {
   "cell_type": "code",
   "execution_count": null,
   "metadata": {},
   "outputs": [],
   "source": [
    "from konlpy.tag import Kkma\n",
    "tagger = Kkma()"
   ]
  },
  {
   "cell_type": "code",
   "execution_count": null,
   "metadata": {},
   "outputs": [],
   "source": [
    "df = pd.read_csv('cleaning완료.csv', encoding = 'utf-8-sig')"
   ]
  },
  {
   "cell_type": "markdown",
   "metadata": {},
   "source": [
    "* pip install pytagcloud <br>\n",
    "* pip install pygame <br>\n",
    "* pip install simplejson <br>"
   ]
  },
  {
   "cell_type": "code",
   "execution_count": null,
   "metadata": {
    "scrolled": true
   },
   "outputs": [],
   "source": [
    "from collections import Counter\n",
    "#import pygame\n",
    "#import pytagcloud"
   ]
  },
  {
   "cell_type": "markdown",
   "metadata": {},
   "source": [
    "## 1. post_text 에서 명사 추출"
   ]
  },
  {
   "cell_type": "code",
   "execution_count": null,
   "metadata": {},
   "outputs": [],
   "source": [
    "post_nouns = []\n",
    "\n",
    "for i in range(len(df)) : \n",
    "    try : # 여기서 이모티콘도 자동으로 걸러주긴 한다. \n",
    "       # print(i)\n",
    "        a = tagger.nouns(df['post_text'][i])\n",
    "        post_nouns = post_nouns + a\n",
    "\n",
    "    except : #post_text가 nan값인 경우.. 찐 인스타피플은 포스트 내용을 안 쓰는 간지를 구사한다\n",
    "        pass"
   ]
  },
  {
   "cell_type": "code",
   "execution_count": null,
   "metadata": {},
   "outputs": [],
   "source": [
    "#확인\n",
    "len(post_nouns)"
   ]
  },
  {
   "cell_type": "code",
   "execution_count": null,
   "metadata": {
    "scrolled": true
   },
   "outputs": [],
   "source": [
    "count = Counter(post_nouns)\n",
    "key_post_150 = count.most_common(150)\n",
    "key_post_150 = dict(key_post_150)\n",
    "print(key_post_150)"
   ]
  },
  {
   "cell_type": "code",
   "execution_count": null,
   "metadata": {},
   "outputs": [],
   "source": [
    "## 없앨 거 미리 없애기\n",
    "## 해시태그 부산여행으로 진행했음\n",
    "\n",
    "stopwords = ['부산', '부산여행', '여행', '맛', '집']\n",
    "\n",
    "for i in stopwords : \n",
    "    key_post_150.pop(i)\n"
   ]
  },
  {
   "cell_type": "code",
   "execution_count": null,
   "metadata": {},
   "outputs": [],
   "source": [
    "from wordcloud import WordCloud\n",
    "from wordcloud import STOPWORDS"
   ]
  },
  {
   "cell_type": "code",
   "execution_count": null,
   "metadata": {},
   "outputs": [],
   "source": [
    "wordcloud = WordCloud(font_path = \"C:/Windows/Fonts/NanumBarunpenB.ttf\", # 글씨체 매우 중요.. \n",
    "                      background_color = 'white', width = 800, height = 600)\n",
    "\n",
    "wordcloud = wordcloud.generate_from_frequencies(key_post_150)"
   ]
  },
  {
   "cell_type": "code",
   "execution_count": null,
   "metadata": {},
   "outputs": [],
   "source": [
    "import matplotlib.pyplot as plt\n",
    "%matplotlib inline\n",
    "\n",
    "plt.figure(figsize = (10, 10))\n",
    "plt.imshow(wordcloud, interpolation = 'bilinear')\n",
    "plt.axis(\"off\")\n",
    "plt.show()"
   ]
  },
  {
   "cell_type": "code",
   "execution_count": null,
   "metadata": {},
   "outputs": [],
   "source": [
    "##2. comment_text"
   ]
  },
  {
   "cell_type": "code",
   "execution_count": null,
   "metadata": {},
   "outputs": [],
   "source": [
    "comment_nouns = []\n",
    "\n",
    "# 2. comment_text\n",
    "\n",
    "for i in range(len(df)) : \n",
    "    try : \n",
    "       # print(i)\n",
    "        a = tagger.nouns(df['comment_text'][i])\n",
    "        comment_nouns = comment_nouns + a\n",
    "\n",
    "    except : \n",
    "        pass\n"
   ]
  },
  {
   "cell_type": "code",
   "execution_count": null,
   "metadata": {},
   "outputs": [],
   "source": [
    "count = Counter(comment_nouns)"
   ]
  },
  {
   "cell_type": "code",
   "execution_count": null,
   "metadata": {},
   "outputs": [],
   "source": [
    "keywords_150 = count.most_common(150)\n",
    "keywords_150 = dict(keywords_150)\n",
    "print(keywords_150)"
   ]
  },
  {
   "cell_type": "code",
   "execution_count": null,
   "metadata": {},
   "outputs": [],
   "source": [
    "##없앨 거 미리 없애기\n",
    "\n",
    "stopwords = ['부산', '부산여행', '여행', '그램', '스타', '맛','집' ]\n",
    "\n",
    "for i in stopwords : \n",
    "    keywords_150.pop(i)\n",
    "\n"
   ]
  },
  {
   "cell_type": "code",
   "execution_count": null,
   "metadata": {},
   "outputs": [],
   "source": [
    "wordcloud = WordCloud(font_path = \"C:/Windows/Fonts/NanumBarunpenB.ttf\", \n",
    "                      background_color='white', width = 800, height = 600)\n",
    "#                      stopwords = stopwords)\n",
    "\n",
    "wordcloud = wordcloud.generate_from_frequencies(keywords_150)"
   ]
  },
  {
   "cell_type": "code",
   "execution_count": null,
   "metadata": {},
   "outputs": [],
   "source": [
    "%matplotlib inline\n",
    "import matplotlib.pyplot as plt\n",
    "plt.figure(figsize = (10, 10))\n",
    "plt.imshow(wordcloud, interpolation = 'bilinear')\n",
    "plt.axis(\"off\")\n",
    "plt.show()"
   ]
  },
  {
   "cell_type": "code",
   "execution_count": null,
   "metadata": {},
   "outputs": [],
   "source": []
  },
  {
   "cell_type": "markdown",
   "metadata": {},
   "source": [
    "### 컬러 변환하기"
   ]
  },
  {
   "cell_type": "code",
   "execution_count": null,
   "metadata": {},
   "outputs": [],
   "source": [
    "from wordcloud import get_single_color_func\n",
    "\n",
    "# class SimpleGroupedColorFunc(object):\n",
    "#     def __init__(self, color_to_words, default_color):\n",
    "#         self.word_to_color = {word: color\n",
    "#                               for (color, words) in color_to_words.items()\n",
    "#                               for word in words}\n",
    "\n",
    "#         self.default_color = default_color\n",
    "\n",
    "#     def __call__(self, word, **kwargs):\n",
    "#         return self.word_to_color.get(word, self.default_color)\n",
    "    \n",
    "    \n",
    "#color_to_words 는 {‘color’: [‘word’, ‘list’]}\n",
    "\n",
    "##example\n",
    "\n",
    "color_to_words = {'color' : ['word', 'list']}\n",
    "\n",
    "color_to_words = {\n",
    "    # words below will be colored with a green single color function\n",
    "    '#5B3173': ['감사'],\n",
    "    # will be colored with a red single color function\n",
    "    '#ABB34E': ['글']\n",
    "}\n",
    "\n",
    "# Words that are not in any of the color_to_words values\n",
    "# will be colored with a grey single color function\n",
    "default_color = 'grey'\n",
    "\n"
   ]
  },
  {
   "cell_type": "code",
   "execution_count": null,
   "metadata": {},
   "outputs": [],
   "source": [
    "\n"
   ]
  },
  {
   "cell_type": "code",
   "execution_count": null,
   "metadata": {},
   "outputs": [],
   "source": [
    "simple_color_func = SimpleGroupedColorFunc(color_to_words, default_color)\n",
    "wordcloud.recolor(color_func = simple_color_func)\n",
    "plt.figure(figsize=(10, 10))\n",
    "plt.imshow(wordcloud, interpolation=\"bilinear\")\n",
    "plt.axis(\"off\")\n",
    "plt.show()"
   ]
  },
  {
   "cell_type": "code",
   "execution_count": null,
   "metadata": {},
   "outputs": [],
   "source": [
    "from PIL import Image\n",
    "import numpy as np"
   ]
  },
  {
   "cell_type": "code",
   "execution_count": null,
   "metadata": {},
   "outputs": [],
   "source": [
    "book_mask = np.array(Image.open(\"bookmask.png\"))"
   ]
  },
  {
   "cell_type": "code",
   "execution_count": null,
   "metadata": {},
   "outputs": [],
   "source": [
    "wordcloud = WordCloud(font_path = \"C:/Windows/Fonts/NanumBarunpenB.ttf\", \n",
    "                      background_color='white', width = 800, height = 600,\n",
    "                     mask = book_mask)\n",
    "    \n",
    "wordcloud = wordcloud.generate_from_frequencies(keywords_150)\n",
    "plt.figure(figsize=(10, 10))\n",
    "plt.imshow(wordcloud, interpolation=\"bilinear\")\n",
    "plt.axis(\"off\")\n",
    "plt.show()"
   ]
  },
  {
   "cell_type": "code",
   "execution_count": null,
   "metadata": {},
   "outputs": [],
   "source": [
    "carrot_mask = np.array(Image.open(\"carrot-cut.png\"))"
   ]
  },
  {
   "cell_type": "code",
   "execution_count": null,
   "metadata": {},
   "outputs": [],
   "source": [
    "wordcloud = WordCloud(font_path = \"C:/Windows/Fonts/NanumBarunpenB.ttf\", \n",
    "                      background_color='white', width = 800, height = 600,\n",
    "                     mask = carrot_mask)\n",
    "    \n",
    "wordcloud = wordcloud.generate_from_frequencies(key_post_150)\n",
    "plt.figure(figsize=(10, 10))\n",
    "plt.imshow(wordcloud, interpolation=\"bilinear\")\n",
    "plt.axis(\"off\")\n",
    "plt.show()"
   ]
  },
  {
   "cell_type": "code",
   "execution_count": null,
   "metadata": {},
   "outputs": [],
   "source": []
  },
  {
   "cell_type": "code",
   "execution_count": null,
   "metadata": {},
   "outputs": [],
   "source": []
  },
  {
   "cell_type": "code",
   "execution_count": null,
   "metadata": {},
   "outputs": [],
   "source": []
  }
 ],
 "metadata": {
  "kernelspec": {
   "display_name": "Python 3",
   "language": "python",
   "name": "python3"
  },
  "language_info": {
   "codemirror_mode": {
    "name": "ipython",
    "version": 3
   },
   "file_extension": ".py",
   "mimetype": "text/x-python",
   "name": "python",
   "nbconvert_exporter": "python",
   "pygments_lexer": "ipython3",
   "version": "3.7.7"
  }
 },
 "nbformat": 4,
 "nbformat_minor": 2
}

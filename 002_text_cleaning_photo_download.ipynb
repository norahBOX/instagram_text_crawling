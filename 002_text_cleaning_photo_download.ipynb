{
 "cells": [
  {
   "cell_type": "markdown",
   "metadata": {},
   "source": [
    "# 텍스트 정제 text cleaning\n",
    "regex를 이용해서.."
   ]
  },
  {
   "cell_type": "code",
   "execution_count": null,
   "metadata": {},
   "outputs": [],
   "source": [
    "import re\n",
    "import pandas as pd\n",
    "\n",
    "import requests\n",
    "import pandas as pd\n",
    "import datetime as dt\n",
    "\n",
    "import copy\n",
    "\n",
    "from tqdm.notebook import tqdm\n",
    "import time"
   ]
  },
  {
   "cell_type": "code",
   "execution_count": null,
   "metadata": {},
   "outputs": [],
   "source": [
    "df = pd.read_csv('savingname.csv')"
   ]
  },
  {
   "cell_type": "code",
   "execution_count": null,
   "metadata": {},
   "outputs": [],
   "source": [
    "new_df = copy.deepcopy(df.filter(['taken_at_timestamp' ,'owner.username','edge_media_to_caption.edges',\n",
    "                    'edge_media_to_parent_comment.edges', 'edge_media_preview_like.count', 'display_url' , 'shortcode'],\n",
    "                   axis = 1))"
   ]
  },
  {
   "cell_type": "code",
   "execution_count": null,
   "metadata": {},
   "outputs": [],
   "source": [
    "new_df.columns = ['timestamp', 'username', 'post_text', 'comment_text', 'likes', 'pic_url', 'shortcode']"
   ]
  },
  {
   "cell_type": "code",
   "execution_count": null,
   "metadata": {},
   "outputs": [],
   "source": [
    "##1. 날짜정보 변환\n",
    "\n",
    "for i in range(len(new_df)) : \n",
    "    new_df.loc[i, \"timestamp\"] = dt.datetime.fromtimestamp(new_df.loc[i, \"timestamp\"])"
   ]
  },
  {
   "cell_type": "code",
   "execution_count": null,
   "metadata": {},
   "outputs": [],
   "source": []
  },
  {
   "cell_type": "code",
   "execution_count": null,
   "metadata": {},
   "outputs": [],
   "source": [
    "#2. post_text정제\n",
    "#지옥의 정규식\n",
    "\n",
    "pattern1 = '\\\\\\\\n'\n",
    "pattern2 = \"\\[|\\]|\\{|\\}|'text'|'node'|:|['']|#\"\n",
    "#pattern3 = \"#\"\n",
    "pbar = tqdm(total = len(new_df))\n",
    "for i in range(len(new_df)) : \n",
    "    text = copy.deepcopy(new_df.loc[i, 'post_text'])\n",
    "    \n",
    "    #1차 \n",
    "    a1 = re.sub(pattern1, ' ' , text)\n",
    "    \n",
    "    #2차\n",
    "    a2 = re.sub(pattern2, ' ', a1) \n",
    "    \n",
    "    #3차\n",
    "#    a3 = re.sub(pattern3, ' ', a2) \n",
    "    \n",
    "    new_df.loc[i, 'post_text'] = a2\n",
    "    pbar.update()\n",
    "    \n",
    "pbar.close()"
   ]
  },
  {
   "cell_type": "code",
   "execution_count": null,
   "metadata": {},
   "outputs": [],
   "source": [
    "new_df.head()"
   ]
  },
  {
   "cell_type": "code",
   "execution_count": null,
   "metadata": {},
   "outputs": [],
   "source": [
    "for i in range(5) : \n",
    "    print(new_df.loc[i, 'post_text'])"
   ]
  },
  {
   "cell_type": "code",
   "execution_count": null,
   "metadata": {},
   "outputs": [],
   "source": [
    "#3. comment_text 정제\n",
    "#지옥의 정규식...\n",
    "\n",
    "\n",
    "pbar = tqdm(total = len(new_df))\n",
    "\n",
    "for i in range(len(new_df)) : \n",
    "    text = copy.deepcopy(new_df.loc[i, 'comment_text'])\n",
    "    \n",
    "    a = text.split(',')\n",
    "    \n",
    "    a2 = str()\n",
    "    \n",
    "    for j in range(len(a)) : \n",
    "        if bool(re.search('text', a[j])) == True : \n",
    "            a2 = a2 + a[j]\n",
    "            \n",
    "    a3 = re.sub(\"'text'|'|@[a-z0-9_.]+|:\", '', a2)\n",
    "    a4 = re.sub(\"#\", ' ', a3)\n",
    "\n",
    "    new_df.loc[i, 'comment_text'] = a4\n",
    "    \n",
    "    pbar.update()\n",
    "    \n",
    "pbar.close()"
   ]
  },
  {
   "cell_type": "code",
   "execution_count": null,
   "metadata": {
    "scrolled": false
   },
   "outputs": [],
   "source": [
    "for i in range(10) : \n",
    "    print(new_df.loc[i, 'comment_text'])"
   ]
  },
  {
   "cell_type": "code",
   "execution_count": null,
   "metadata": {},
   "outputs": [],
   "source": [
    "new_df.to_csv('cleaning완료.csv', encoding = 'utf-8-sig')"
   ]
  },
  {
   "cell_type": "code",
   "execution_count": null,
   "metadata": {},
   "outputs": [],
   "source": [
    "import os\n",
    "import urllib.request as req\n",
    "\n",
    "dir_name = \"prod_imgs\"\n",
    "os.makedirs(dir_name, exist_ok = True) #새로 폴더 만들어 + 부드럽게 실행시킬수있는 옵션\n",
    "photo_name = \"name\"\n",
    "pbar = tqdm(total = len(new_df))\n",
    "for i in range(len(new_df)) : \n",
    "    req.urlretrieve(url = new_df.loc[i,'pic_url'], \n",
    "                    filename = dir_name + '/' + photo_name + str(i) + \".jpg\")\n",
    "    pbar.update()\n",
    "pbar.close()"
   ]
  }
 ],
 "metadata": {
  "kernelspec": {
   "display_name": "Python 3",
   "language": "python",
   "name": "python3"
  },
  "language_info": {
   "codemirror_mode": {
    "name": "ipython",
    "version": 3
   },
   "file_extension": ".py",
   "mimetype": "text/x-python",
   "name": "python",
   "nbconvert_exporter": "python",
   "pygments_lexer": "ipython3",
   "version": "3.7.7"
  }
 },
 "nbformat": 4,
 "nbformat_minor": 2
}

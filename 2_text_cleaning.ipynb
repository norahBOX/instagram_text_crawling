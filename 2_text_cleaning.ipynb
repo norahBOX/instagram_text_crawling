{
 "cells": [
  {
   "cell_type": "markdown",
   "metadata": {},
   "source": [
    "# 텍스트 정제 text cleaning\n",
    "regex를 이용해서.."
   ]
  },
  {
   "cell_type": "code",
   "execution_count": 1,
   "metadata": {},
   "outputs": [],
   "source": [
    "import re\n",
    "import pandas as pd\n",
    "\n",
    "import requests\n",
    "import pandas as pd\n",
    "import datetime as dt\n",
    "\n",
    "import copy"
   ]
  },
  {
   "cell_type": "code",
   "execution_count": 2,
   "metadata": {},
   "outputs": [],
   "source": [
    "df = pd.read_csv('savingname.csv')"
   ]
  },
  {
   "cell_type": "code",
   "execution_count": 3,
   "metadata": {},
   "outputs": [
    {
     "data": {
      "text/html": [
       "<div>\n",
       "<style scoped>\n",
       "    .dataframe tbody tr th:only-of-type {\n",
       "        vertical-align: middle;\n",
       "    }\n",
       "\n",
       "    .dataframe tbody tr th {\n",
       "        vertical-align: top;\n",
       "    }\n",
       "\n",
       "    .dataframe thead th {\n",
       "        text-align: right;\n",
       "    }\n",
       "</style>\n",
       "<table border=\"1\" class=\"dataframe\">\n",
       "  <thead>\n",
       "    <tr style=\"text-align: right;\">\n",
       "      <th></th>\n",
       "      <th>Unnamed: 0</th>\n",
       "      <th>__typename</th>\n",
       "      <th>accessibility_caption</th>\n",
       "      <th>caption_is_edited</th>\n",
       "      <th>commenting_disabled_for_viewer</th>\n",
       "      <th>comments_disabled</th>\n",
       "      <th>dash_info.is_dash_eligible</th>\n",
       "      <th>dash_info.number_of_qualities</th>\n",
       "      <th>dash_info.video_dash_manifest</th>\n",
       "      <th>dimensions.height</th>\n",
       "      <th>...</th>\n",
       "      <th>title</th>\n",
       "      <th>tracking_token</th>\n",
       "      <th>video_duration</th>\n",
       "      <th>video_url</th>\n",
       "      <th>video_view_count</th>\n",
       "      <th>viewer_can_reshare</th>\n",
       "      <th>viewer_has_liked</th>\n",
       "      <th>viewer_has_saved</th>\n",
       "      <th>viewer_has_saved_to_collection</th>\n",
       "      <th>viewer_in_photo_of_you</th>\n",
       "    </tr>\n",
       "  </thead>\n",
       "  <tbody>\n",
       "    <tr>\n",
       "      <th>0</th>\n",
       "      <td>0</td>\n",
       "      <td>GraphImage</td>\n",
       "      <td>No photo description available.</td>\n",
       "      <td>False</td>\n",
       "      <td>False</td>\n",
       "      <td>False</td>\n",
       "      <td>NaN</td>\n",
       "      <td>NaN</td>\n",
       "      <td>NaN</td>\n",
       "      <td>1080</td>\n",
       "      <td>...</td>\n",
       "      <td>NaN</td>\n",
       "      <td>eyJ2ZXJzaW9uIjo1LCJwYXlsb2FkIjp7ImlzX2FuYWx5dG...</td>\n",
       "      <td>NaN</td>\n",
       "      <td>NaN</td>\n",
       "      <td>NaN</td>\n",
       "      <td>True</td>\n",
       "      <td>False</td>\n",
       "      <td>False</td>\n",
       "      <td>False</td>\n",
       "      <td>False</td>\n",
       "    </tr>\n",
       "    <tr>\n",
       "      <th>1</th>\n",
       "      <td>1</td>\n",
       "      <td>GraphSidecar</td>\n",
       "      <td>NaN</td>\n",
       "      <td>True</td>\n",
       "      <td>False</td>\n",
       "      <td>False</td>\n",
       "      <td>NaN</td>\n",
       "      <td>NaN</td>\n",
       "      <td>NaN</td>\n",
       "      <td>1080</td>\n",
       "      <td>...</td>\n",
       "      <td>NaN</td>\n",
       "      <td>eyJ2ZXJzaW9uIjo1LCJwYXlsb2FkIjp7ImlzX2FuYWx5dG...</td>\n",
       "      <td>NaN</td>\n",
       "      <td>NaN</td>\n",
       "      <td>NaN</td>\n",
       "      <td>True</td>\n",
       "      <td>False</td>\n",
       "      <td>False</td>\n",
       "      <td>False</td>\n",
       "      <td>False</td>\n",
       "    </tr>\n",
       "    <tr>\n",
       "      <th>2</th>\n",
       "      <td>2</td>\n",
       "      <td>GraphSidecar</td>\n",
       "      <td>NaN</td>\n",
       "      <td>False</td>\n",
       "      <td>True</td>\n",
       "      <td>False</td>\n",
       "      <td>NaN</td>\n",
       "      <td>NaN</td>\n",
       "      <td>NaN</td>\n",
       "      <td>1350</td>\n",
       "      <td>...</td>\n",
       "      <td>NaN</td>\n",
       "      <td>eyJ2ZXJzaW9uIjo1LCJwYXlsb2FkIjp7ImlzX2FuYWx5dG...</td>\n",
       "      <td>NaN</td>\n",
       "      <td>NaN</td>\n",
       "      <td>NaN</td>\n",
       "      <td>True</td>\n",
       "      <td>False</td>\n",
       "      <td>False</td>\n",
       "      <td>False</td>\n",
       "      <td>False</td>\n",
       "    </tr>\n",
       "    <tr>\n",
       "      <th>3</th>\n",
       "      <td>3</td>\n",
       "      <td>GraphImage</td>\n",
       "      <td>No photo description available.</td>\n",
       "      <td>False</td>\n",
       "      <td>False</td>\n",
       "      <td>False</td>\n",
       "      <td>NaN</td>\n",
       "      <td>NaN</td>\n",
       "      <td>NaN</td>\n",
       "      <td>810</td>\n",
       "      <td>...</td>\n",
       "      <td>NaN</td>\n",
       "      <td>eyJ2ZXJzaW9uIjo1LCJwYXlsb2FkIjp7ImlzX2FuYWx5dG...</td>\n",
       "      <td>NaN</td>\n",
       "      <td>NaN</td>\n",
       "      <td>NaN</td>\n",
       "      <td>True</td>\n",
       "      <td>False</td>\n",
       "      <td>False</td>\n",
       "      <td>False</td>\n",
       "      <td>False</td>\n",
       "    </tr>\n",
       "    <tr>\n",
       "      <th>4</th>\n",
       "      <td>4</td>\n",
       "      <td>GraphSidecar</td>\n",
       "      <td>NaN</td>\n",
       "      <td>True</td>\n",
       "      <td>False</td>\n",
       "      <td>False</td>\n",
       "      <td>NaN</td>\n",
       "      <td>NaN</td>\n",
       "      <td>NaN</td>\n",
       "      <td>1080</td>\n",
       "      <td>...</td>\n",
       "      <td>NaN</td>\n",
       "      <td>eyJ2ZXJzaW9uIjo1LCJwYXlsb2FkIjp7ImlzX2FuYWx5dG...</td>\n",
       "      <td>NaN</td>\n",
       "      <td>NaN</td>\n",
       "      <td>NaN</td>\n",
       "      <td>True</td>\n",
       "      <td>False</td>\n",
       "      <td>False</td>\n",
       "      <td>False</td>\n",
       "      <td>False</td>\n",
       "    </tr>\n",
       "  </tbody>\n",
       "</table>\n",
       "<p>5 rows × 67 columns</p>\n",
       "</div>"
      ],
      "text/plain": [
       "   Unnamed: 0    __typename            accessibility_caption  \\\n",
       "0           0    GraphImage  No photo description available.   \n",
       "1           1  GraphSidecar                              NaN   \n",
       "2           2  GraphSidecar                              NaN   \n",
       "3           3    GraphImage  No photo description available.   \n",
       "4           4  GraphSidecar                              NaN   \n",
       "\n",
       "   caption_is_edited  commenting_disabled_for_viewer  comments_disabled  \\\n",
       "0              False                           False              False   \n",
       "1               True                           False              False   \n",
       "2              False                            True              False   \n",
       "3              False                           False              False   \n",
       "4               True                           False              False   \n",
       "\n",
       "  dash_info.is_dash_eligible  dash_info.number_of_qualities  \\\n",
       "0                        NaN                            NaN   \n",
       "1                        NaN                            NaN   \n",
       "2                        NaN                            NaN   \n",
       "3                        NaN                            NaN   \n",
       "4                        NaN                            NaN   \n",
       "\n",
       "   dash_info.video_dash_manifest  dimensions.height  ...  title  \\\n",
       "0                            NaN               1080  ...    NaN   \n",
       "1                            NaN               1080  ...    NaN   \n",
       "2                            NaN               1350  ...    NaN   \n",
       "3                            NaN                810  ...    NaN   \n",
       "4                            NaN               1080  ...    NaN   \n",
       "\n",
       "                                      tracking_token video_duration  \\\n",
       "0  eyJ2ZXJzaW9uIjo1LCJwYXlsb2FkIjp7ImlzX2FuYWx5dG...            NaN   \n",
       "1  eyJ2ZXJzaW9uIjo1LCJwYXlsb2FkIjp7ImlzX2FuYWx5dG...            NaN   \n",
       "2  eyJ2ZXJzaW9uIjo1LCJwYXlsb2FkIjp7ImlzX2FuYWx5dG...            NaN   \n",
       "3  eyJ2ZXJzaW9uIjo1LCJwYXlsb2FkIjp7ImlzX2FuYWx5dG...            NaN   \n",
       "4  eyJ2ZXJzaW9uIjo1LCJwYXlsb2FkIjp7ImlzX2FuYWx5dG...            NaN   \n",
       "\n",
       "   video_url video_view_count  viewer_can_reshare viewer_has_liked  \\\n",
       "0        NaN              NaN                True            False   \n",
       "1        NaN              NaN                True            False   \n",
       "2        NaN              NaN                True            False   \n",
       "3        NaN              NaN                True            False   \n",
       "4        NaN              NaN                True            False   \n",
       "\n",
       "  viewer_has_saved  viewer_has_saved_to_collection viewer_in_photo_of_you  \n",
       "0            False                           False                  False  \n",
       "1            False                           False                  False  \n",
       "2            False                           False                  False  \n",
       "3            False                           False                  False  \n",
       "4            False                           False                  False  \n",
       "\n",
       "[5 rows x 67 columns]"
      ]
     },
     "execution_count": 3,
     "metadata": {},
     "output_type": "execute_result"
    }
   ],
   "source": [
    "df.head(5)"
   ]
  },
  {
   "cell_type": "code",
   "execution_count": 4,
   "metadata": {},
   "outputs": [],
   "source": [
    "new_df = df.filter(['taken_at_timestamp' ,'owner.username','edge_media_to_caption.edges',\n",
    "                    'edge_media_to_parent_comment.edges', 'edge_media_preview_like.count', 'display_url' , 'shortcode'],\n",
    "                   axis = 1)"
   ]
  },
  {
   "cell_type": "code",
   "execution_count": 5,
   "metadata": {
    "scrolled": false
   },
   "outputs": [
    {
     "data": {
      "text/html": [
       "<div>\n",
       "<style scoped>\n",
       "    .dataframe tbody tr th:only-of-type {\n",
       "        vertical-align: middle;\n",
       "    }\n",
       "\n",
       "    .dataframe tbody tr th {\n",
       "        vertical-align: top;\n",
       "    }\n",
       "\n",
       "    .dataframe thead th {\n",
       "        text-align: right;\n",
       "    }\n",
       "</style>\n",
       "<table border=\"1\" class=\"dataframe\">\n",
       "  <thead>\n",
       "    <tr style=\"text-align: right;\">\n",
       "      <th></th>\n",
       "      <th>taken_at_timestamp</th>\n",
       "      <th>owner.username</th>\n",
       "      <th>edge_media_to_caption.edges</th>\n",
       "      <th>edge_media_to_parent_comment.edges</th>\n",
       "      <th>edge_media_preview_like.count</th>\n",
       "      <th>display_url</th>\n",
       "      <th>shortcode</th>\n",
       "    </tr>\n",
       "  </thead>\n",
       "  <tbody>\n",
       "    <tr>\n",
       "      <th>0</th>\n",
       "      <td>1578650437</td>\n",
       "      <td>fiona67_drawing</td>\n",
       "      <td>[{'node': {'text': '🍰☕ 케이크와 커피 그리기\\n\\n#클래스101\\...</td>\n",
       "      <td>[]</td>\n",
       "      <td>38</td>\n",
       "      <td>https://scontent-icn1-1.cdninstagram.com/v/t51...</td>\n",
       "      <td>B7Io_hJguP4</td>\n",
       "    </tr>\n",
       "    <tr>\n",
       "      <th>1</th>\n",
       "      <td>1578576151</td>\n",
       "      <td>beautypia_by_jans</td>\n",
       "      <td>[{'node': {'text': '지가유~유명 미디어학과 교수님이 2년전 앞으로 ...</td>\n",
       "      <td>[{'node': {'id': '17937873013324663', 'text': ...</td>\n",
       "      <td>117</td>\n",
       "      <td>https://scontent-icn1-1.cdninstagram.com/v/t51...</td>\n",
       "      <td>B7GbTbBprlV</td>\n",
       "    </tr>\n",
       "    <tr>\n",
       "      <th>2</th>\n",
       "      <td>1578823983</td>\n",
       "      <td>snoopy_jean</td>\n",
       "      <td>[{'node': {'text': '누나가 날 자꾸 괴롭힌다 ... 확 뜯어버릴까 ...</td>\n",
       "      <td>[{'node': {'id': '18123242224023710', 'text': ...</td>\n",
       "      <td>94</td>\n",
       "      <td>https://scontent-icn1-1.cdninstagram.com/v/t51...</td>\n",
       "      <td>B7N0ATrD2aq</td>\n",
       "    </tr>\n",
       "    <tr>\n",
       "      <th>3</th>\n",
       "      <td>1578552028</td>\n",
       "      <td>hopely0505</td>\n",
       "      <td>[{'node': {'text': '#핀든아트 #클래스101 #여행드로잉 #맥주캔그...</td>\n",
       "      <td>[]</td>\n",
       "      <td>3</td>\n",
       "      <td>https://scontent-icn1-1.cdninstagram.com/v/t51...</td>\n",
       "      <td>B7FtSqtlQKL</td>\n",
       "    </tr>\n",
       "    <tr>\n",
       "      <th>4</th>\n",
       "      <td>1578474996</td>\n",
       "      <td>_bitte_schon</td>\n",
       "      <td>[{'node': {'text': '미리 만들어본 내 생일 초..💖\\n-\\n집에서 ...</td>\n",
       "      <td>[{'node': {'id': '18094138102120295', 'text': ...</td>\n",
       "      <td>67</td>\n",
       "      <td>https://scontent-icn1-1.cdninstagram.com/v/t51...</td>\n",
       "      <td>B7DaXZNH9QO</td>\n",
       "    </tr>\n",
       "    <tr>\n",
       "      <th>5</th>\n",
       "      <td>1578412475</td>\n",
       "      <td>ulmanbakytzhan</td>\n",
       "      <td>[]</td>\n",
       "      <td>[{'node': {'id': '17903954587409561', 'text': ...</td>\n",
       "      <td>58</td>\n",
       "      <td>https://scontent-icn1-1.cdninstagram.com/v/t51...</td>\n",
       "      <td>B7BjHYIl8mi</td>\n",
       "    </tr>\n",
       "    <tr>\n",
       "      <th>6</th>\n",
       "      <td>1578896809</td>\n",
       "      <td>23iii_floor_label</td>\n",
       "      <td>[{'node': {'text': '두 배우의 설렘이 잘 표현되어서 행복합니다😭❤️...</td>\n",
       "      <td>[{'node': {'id': '17872193341541692', 'text': ...</td>\n",
       "      <td>100</td>\n",
       "      <td>https://scontent-icn1-1.cdninstagram.com/v/t51...</td>\n",
       "      <td>B7P-6LEBto4</td>\n",
       "    </tr>\n",
       "    <tr>\n",
       "      <th>7</th>\n",
       "      <td>1578533888</td>\n",
       "      <td>hjeong.95</td>\n",
       "      <td>[{'node': {'text': '집=작업장\\n파우치 열심히 생산중 ㅠㅠ\\n\\n다...</td>\n",
       "      <td>[{'node': {'id': '17863327720628073', 'text': ...</td>\n",
       "      <td>31</td>\n",
       "      <td>https://scontent-icn1-1.cdninstagram.com/v/t51...</td>\n",
       "      <td>B7FKsYAnq68</td>\n",
       "    </tr>\n",
       "    <tr>\n",
       "      <th>8</th>\n",
       "      <td>1578377075</td>\n",
       "      <td>sseowonii</td>\n",
       "      <td>[{'node': {'text': '.\\n마지막 #수국 \\n너무 많이 색을 채워 아...</td>\n",
       "      <td>[{'node': {'id': '17856164761730626', 'text': ...</td>\n",
       "      <td>40</td>\n",
       "      <td>https://scontent-icn1-1.cdninstagram.com/v/t51...</td>\n",
       "      <td>B7AfmHTJy4A</td>\n",
       "    </tr>\n",
       "    <tr>\n",
       "      <th>9</th>\n",
       "      <td>1578225387</td>\n",
       "      <td>jenia_greem</td>\n",
       "      <td>[{'node': {'text': '@sorasora_sr 님의 #클래스101 수업...</td>\n",
       "      <td>[]</td>\n",
       "      <td>40</td>\n",
       "      <td>https://scontent-icn1-1.cdninstagram.com/v/t51...</td>\n",
       "      <td>B67-RcXnEeo</td>\n",
       "    </tr>\n",
       "  </tbody>\n",
       "</table>\n",
       "</div>"
      ],
      "text/plain": [
       "   taken_at_timestamp     owner.username  \\\n",
       "0          1578650437    fiona67_drawing   \n",
       "1          1578576151  beautypia_by_jans   \n",
       "2          1578823983        snoopy_jean   \n",
       "3          1578552028         hopely0505   \n",
       "4          1578474996       _bitte_schon   \n",
       "5          1578412475     ulmanbakytzhan   \n",
       "6          1578896809  23iii_floor_label   \n",
       "7          1578533888          hjeong.95   \n",
       "8          1578377075          sseowonii   \n",
       "9          1578225387        jenia_greem   \n",
       "\n",
       "                         edge_media_to_caption.edges  \\\n",
       "0  [{'node': {'text': '🍰☕ 케이크와 커피 그리기\\n\\n#클래스101\\...   \n",
       "1  [{'node': {'text': '지가유~유명 미디어학과 교수님이 2년전 앞으로 ...   \n",
       "2  [{'node': {'text': '누나가 날 자꾸 괴롭힌다 ... 확 뜯어버릴까 ...   \n",
       "3  [{'node': {'text': '#핀든아트 #클래스101 #여행드로잉 #맥주캔그...   \n",
       "4  [{'node': {'text': '미리 만들어본 내 생일 초..💖\\n-\\n집에서 ...   \n",
       "5                                                 []   \n",
       "6  [{'node': {'text': '두 배우의 설렘이 잘 표현되어서 행복합니다😭❤️...   \n",
       "7  [{'node': {'text': '집=작업장\\n파우치 열심히 생산중 ㅠㅠ\\n\\n다...   \n",
       "8  [{'node': {'text': '.\\n마지막 #수국 \\n너무 많이 색을 채워 아...   \n",
       "9  [{'node': {'text': '@sorasora_sr 님의 #클래스101 수업...   \n",
       "\n",
       "                  edge_media_to_parent_comment.edges  \\\n",
       "0                                                 []   \n",
       "1  [{'node': {'id': '17937873013324663', 'text': ...   \n",
       "2  [{'node': {'id': '18123242224023710', 'text': ...   \n",
       "3                                                 []   \n",
       "4  [{'node': {'id': '18094138102120295', 'text': ...   \n",
       "5  [{'node': {'id': '17903954587409561', 'text': ...   \n",
       "6  [{'node': {'id': '17872193341541692', 'text': ...   \n",
       "7  [{'node': {'id': '17863327720628073', 'text': ...   \n",
       "8  [{'node': {'id': '17856164761730626', 'text': ...   \n",
       "9                                                 []   \n",
       "\n",
       "   edge_media_preview_like.count  \\\n",
       "0                             38   \n",
       "1                            117   \n",
       "2                             94   \n",
       "3                              3   \n",
       "4                             67   \n",
       "5                             58   \n",
       "6                            100   \n",
       "7                             31   \n",
       "8                             40   \n",
       "9                             40   \n",
       "\n",
       "                                         display_url    shortcode  \n",
       "0  https://scontent-icn1-1.cdninstagram.com/v/t51...  B7Io_hJguP4  \n",
       "1  https://scontent-icn1-1.cdninstagram.com/v/t51...  B7GbTbBprlV  \n",
       "2  https://scontent-icn1-1.cdninstagram.com/v/t51...  B7N0ATrD2aq  \n",
       "3  https://scontent-icn1-1.cdninstagram.com/v/t51...  B7FtSqtlQKL  \n",
       "4  https://scontent-icn1-1.cdninstagram.com/v/t51...  B7DaXZNH9QO  \n",
       "5  https://scontent-icn1-1.cdninstagram.com/v/t51...  B7BjHYIl8mi  \n",
       "6  https://scontent-icn1-1.cdninstagram.com/v/t51...  B7P-6LEBto4  \n",
       "7  https://scontent-icn1-1.cdninstagram.com/v/t51...  B7FKsYAnq68  \n",
       "8  https://scontent-icn1-1.cdninstagram.com/v/t51...  B7AfmHTJy4A  \n",
       "9  https://scontent-icn1-1.cdninstagram.com/v/t51...  B67-RcXnEeo  "
      ]
     },
     "execution_count": 5,
     "metadata": {},
     "output_type": "execute_result"
    }
   ],
   "source": [
    "new_df.head(10)"
   ]
  },
  {
   "cell_type": "code",
   "execution_count": 6,
   "metadata": {},
   "outputs": [],
   "source": [
    "new_df.columns = ['timestamp', 'username', 'post_text', 'comment_text', 'likes', 'pic_url', 'shortcode']"
   ]
  },
  {
   "cell_type": "code",
   "execution_count": 7,
   "metadata": {},
   "outputs": [],
   "source": [
    "##1. 날짜정보 변환\n",
    "\n",
    "for i in range(len(new_df)) : \n",
    "    new_df.loc[i, \"timestamp\"] = dt.datetime.fromtimestamp(new_df.loc[i, \"timestamp\"])"
   ]
  },
  {
   "cell_type": "code",
   "execution_count": 8,
   "metadata": {},
   "outputs": [
    {
     "name": "stderr",
     "output_type": "stream",
     "text": [
      "C:\\ProgramData\\Anaconda3\\lib\\site-packages\\ipykernel_launcher.py:20: SettingWithCopyWarning: \n",
      "A value is trying to be set on a copy of a slice from a DataFrame\n",
      "\n",
      "See the caveats in the documentation: http://pandas.pydata.org/pandas-docs/stable/user_guide/indexing.html#returning-a-view-versus-a-copy\n"
     ]
    }
   ],
   "source": [
    "#2. post_text정제\n",
    "#지옥의 정규식\n",
    "\n",
    "pattern1 = '\\\\\\\\n'\n",
    "pattern2 = \"\\[|\\]|\\{|\\}|'text'|'node'|:|['']|#\"\n",
    "#pattern3 = \"#\"\n",
    "\n",
    "for i in range(len(new_df)) : \n",
    "    text = copy.deepcopy(new_df['post_text'][i])\n",
    "    \n",
    "    #1차 \n",
    "    a1 = re.sub(pattern1, ' ' , text)\n",
    "    \n",
    "    #2차\n",
    "    a2 = re.sub(pattern2, ' ', a1) \n",
    "    \n",
    "    #3차\n",
    "#    a3 = re.sub(pattern3, ' ', a2) \n",
    "    \n",
    "    new_df['post_text'][i] = copy.deepcopy(a2)\n"
   ]
  },
  {
   "cell_type": "code",
   "execution_count": 9,
   "metadata": {},
   "outputs": [
    {
     "name": "stdout",
     "output_type": "stream",
     "text": [
      "          🍰☕ 케이크와 커피 그리기   클래스101  소보루의색연필클래스    \n",
      "          지가유~유명 미디어학과 교수님이 2년전 앞으로 유튜브 시대가 열릴 것이니 꼭 활동영역을 넓혀야 한다는 조언으로 유튜브 채널 2년전에 만들었었지유🙏. . 근디 지가유~전문 컨텐츠 완벽함을 추구하고  몸이열개라도모자라 고  잔스매니아 분들의 귀띔으로 인스타 1분영상 연결해서 보실 수 있게 업로드 했슈❤. . 지가 잠깐 방송하고 진심 협찬이 아닌 홍보 영상만 있었는데도 구독해주신 75명 모두모두 복 받으실꺼에융🤣. . 궁금해유???? 그럼 일단 구독 꾹👇. 느리지만 확실하게 앞으로 가야할 유튜브 기획 회의 후 시작 해 볼께유👏. .  유튜브  채널  클래스101  뷰티피아   잔스경락  검색  마사지사랑  마사지방법  마사지  연예인마사지  뷰티성지  여자는관리  평생관리  예뻐지는방법  페이스다이어트  예뻐지는공간  셀프뷰티  셀프마사지  셀프경락  예쁜얼굴  홈케어  티칭  뷰티정보공유    \n",
      "          누나가 날 자꾸 괴롭힌다 ... 확 뜯어버릴까 고민중... ㅋㅋ 사진찍어도 가만있고 착한 또롱이😙 코바늘 너무 재밌다❣️\\U0001f9f6  시은맘의꼼지락작업실  또롱이 잭러셀테리어 jackrussell jackrussellterrier jrt jrtlove jrtlover    \n",
      "           핀든아트  클래스101  여행드로잉  맥주캔그리기  서실적 묘사라기 보다 일러스트에 가까운 그림으로 그려보는게 마음이 더 편한듯 ㅎㅎ  너무 똑같이 그리려다 더 피곤해지므로  자자 오늘부터 매일 1그림씩 그리기 실천 !!    \n",
      "          미리 만들어본 내 생일 초..💖 - 집에서 들을 수 있는 반려동물 캔들 클래스가 준비중이에요 준비물부터 꼼꼼한 설명까지 다 준비해드리니 알림신청 하셔서 특별 할인혜택을 놓치지마세요!✊🏻(프로필 링크 참조)  클래스101 class101    \n"
     ]
    }
   ],
   "source": [
    "for i in range(5) : \n",
    "    print(new_df['post_text'][i])"
   ]
  },
  {
   "cell_type": "code",
   "execution_count": 10,
   "metadata": {},
   "outputs": [
    {
     "name": "stderr",
     "output_type": "stream",
     "text": [
      "C:\\ProgramData\\Anaconda3\\lib\\site-packages\\ipykernel_launcher.py:18: SettingWithCopyWarning: \n",
      "A value is trying to be set on a copy of a slice from a DataFrame\n",
      "\n",
      "See the caveats in the documentation: http://pandas.pydata.org/pandas-docs/stable/user_guide/indexing.html#returning-a-view-versus-a-copy\n"
     ]
    }
   ],
   "source": [
    "#3. comment_text 정제\n",
    "#지옥의 정규식...\n",
    "\n",
    "for i in range(len(new_df)) : \n",
    "    text = copy.deepcopy(new_df['comment_text'][i])\n",
    "    \n",
    "    a = text.split(',')\n",
    "    \n",
    "    a2 = str()\n",
    "    \n",
    "    for j in range(len(a)) : \n",
    "        if bool(re.search('text', a[j])) == True : \n",
    "            a2 = a2 + a[j]\n",
    "            \n",
    "    a3 = re.sub(\"'text'|'|@[a-z0-9_.]+|:\", '', a2)\n",
    "    a4 = re.sub(\"#\", ' ', a3)\n",
    "\n",
    "    new_df['comment_text'][i] = a4\n"
   ]
  },
  {
   "cell_type": "code",
   "execution_count": 11,
   "metadata": {
    "scrolled": false
   },
   "outputs": [
    {
     "name": "stdout",
     "output_type": "stream",
     "text": [
      "\n",
      "  구독하러 가겠습니다 대표님 화이팅 ~~~!!!!👍🏻   꺄아악❤️❤️❤️ 68명ㅎㅎ🤣🤣  원장뉨~❤️구독 완료요!!! 유튜브 활동도 응원하고 기대하고 있을게요~👍 항상 감사합니다!!!🙏   앞으로 아낌없는 조언도 부탁드려요오❤  Love su님😍😍😍  구독하러 고고씽~~😘   우앙👍👍👍  👍👍👍👍😍   gogogo👏👏👏👏  꺄아 구독하러 갑니다❤️   유후🌹🌹🌹  고고^^♡♡   gogo  2020🙏🙏🙏  이미 전 구독하고 있어쥬 🤗   뜨앗👍 대단해융💝💝  👏👏 😍😍 너무좋아용   원하는 영상도 얘기해주시면 뷰티 노장의 힘의로 분발 해 보겠습니다🙏🙏🙏  유투브라니..ㄳ해요..왜몰랏지..ㅜㅜ👏👏   얘기를 안해서리ㅎㅎ🤣. 곧 그냥 심심하게 시작해볼께용🤗🤗🤗   👍넵! 구독햇어요 \\U0001f929꾸준히 볼게욥\\U0001f9d4  꺄 유트브라뉘 댑악쓰   꺄아악👏 광나는 영상이 아닌 잘 배울 수 있게 될 것 같아용🤗 응원해주세요❤️❤️  구독 완료했습니다. 유튜브도 대박나시길!!! ❤️   대박ㅎㅎ 생각만으로도 아찔 행복하네욤👏👏👏👏  대박나실겁니닷   그런건가유ㅎㅎ🤣.그랬음좋겠습니당 💃💃💃  옷 드디어 유튭이😍  우아~~~ 어디하나 흠잡을때가없으시네~~👍   구멍 숭숭 투성이에요🙏 모든분들의 도움으로다 온전해집니다요🤗🤗\n",
      "  ㅋㅋㅋㅋㅋㅋㅋㅋㅋㅋㅋㅋㅋ또롱이 잘 참는데요???? ㅋㅋㅋㅋㅋㅋ 저정도면 👍   *졸릴때 시도해야함* ㅋㅋㅋㅋㅋ 코랑 머리 손 위는 절대 안해주는데 등은 성공했네요😆 ㅋㅋㅋㅋㅋㅋ 다행히 인형에 관심이 없어요😍  또롱이 진지 페이스 첨본다 😘   산책하고 졸려서 그래 🤣🤣 ㅋㅋㅋㅋ  어마👍🏻👍🏻👍🏻👍🏻 짱 귀여워요 ❤️❤️ 솜씨에 놀라고 갑니다 😍😍😍 또롱이와 잘 어울려요 ❤️❤️   귀엽죠~ 온라인클래스라 집에서 하는데 넘 재밌어요 ㅋㅋ나중에 단체샷도 올릴게요😍  우와~~~넘 귀여워요~😍온라인클래스가 있군요~👍   이런거 관심있으시면 한번 봐보세요~  클래스101 이라는 앱에 별게 다 있어요 ㅎㅎㅎ   오~~좋은 정보 감사합니다~👍  너무 귀엽당 ㅋㅋ 금손이라 잘 만든거죠? 난 못하겠찌😭?   저 첨에 하다가 막 던질뻔..🤣 근데 첨에만 어렵고 재밌어요!! 초보도 다 하니까 규동이언니도 할수이쯤!! 인형이 넘 귀여워서 두번째 중급클래스도 신청했다구여 ㅋㅋㅋ💕  선인장넘이뿌네요! 온라인클래스라면 저도 배워보고싶네요👍   예쁜 토끼랑 사람인형이랑 동물들이랑~ 엄청많아요! 애기들 애착인형으로도 좋대요ㅎㅎ 태교 겸 취미 겸 많이 하시는거 같았어요😍  저 후기 사진이랑 프로필 사진보고 찾았어요!! 스토커 같🙈🤣🤣🤣🤣🤣\\n저보다 좋아요 많은거 같아요?! 😆😆😆😆😆👍👍👍   ㅋㅋㅋㅋㅋㅋㅋㅋㅋ 귀여운 방해꾼 🙈 창작인형 기다리고 있을께여!! 👍👍👍💕💕💕   넹❤️ 또롱이를 한번 ! 떠보겠습니닷!🐶   오앙🙈👍👍👍👍👍  아 이뻐 또롱이 메롱 왤케 귀엽나용😘\n",
      "\n",
      "  🔥    비테셴 캔들 소이캔들 강아지캔들 필라캔들 이사선물 집들이선물 인테리어소품 멍스타그램 개스타그램 캔들트레이 집스타그램 소통 데일리 선팔 강아지동반 감성소품 카페 송리단길맛집 문정동맛집 잠실데이트 송파데이트 원데이클래스 캔들공방 직장인취미 커플 서울데이트 애견동반\n",
      "  💜👏  Хоби👏👏   спасибо  Ну если честно я тож типо рисую)))   правда как не будь покажи свой работы   могу но не всем(   хорошо  Но не так как ты   jh  bts   클래스101  illust  illustration  drawing  dailydrawing  mechanicalpenci  mechanicalpencilart  mechanical  art🎨  arts_help  artoftheday\n",
      "  우아 역시3!!!\n",
      "   파우치 스트링파우치 데일리백  핸드메이드체크소품 홈패션 공방 취미 원데이 수강생모집  수강문의 패션디자인 모델리스트 대구 울산 여유 감성 힐링 일상 맞팔 sewing design daily dailybag ecobag ootd pattern handmade work\n",
      "  예뻐요~~수국 정말 예쁜 꽃인데 전 그려볼 엄두도 안나요..   앗 감사합니다~ 스케치만 한시간반 채색만 2시간 걸렸어요😂 저도 수업 아니면 아마 못해봤을거에요~\n",
      "\n"
     ]
    }
   ],
   "source": [
    "for i in range(10) : \n",
    "    print(new_df['comment_text'][i])"
   ]
  },
  {
   "cell_type": "code",
   "execution_count": 23,
   "metadata": {},
   "outputs": [],
   "source": [
    "new_df.to_csv('cleaning완료.csv', encoding = 'utf-8-sig')"
   ]
  },
  {
   "cell_type": "code",
   "execution_count": null,
   "metadata": {},
   "outputs": [],
   "source": []
  },
  {
   "cell_type": "markdown",
   "metadata": {},
   "source": [
    "## 이모티콘을 없애려는 노력"
   ]
  },
  {
   "cell_type": "code",
   "execution_count": 13,
   "metadata": {},
   "outputs": [],
   "source": [
    "import demoji"
   ]
  },
  {
   "cell_type": "code",
   "execution_count": 14,
   "metadata": {},
   "outputs": [
    {
     "name": "stdout",
     "output_type": "stream",
     "text": [
      "  ㅋㅋㅋㅋㅋㅋㅋㅋㅋㅋㅋㅋㅋ또롱이 잘 참는데요???? ㅋㅋㅋㅋㅋㅋ 저정도면 👍   *졸릴때 시도해야함* ㅋㅋㅋㅋㅋ 코랑 머리 손 위는 절대 안해주는데 등은 성공했네요😆 ㅋㅋㅋㅋㅋㅋ 다행히 인형에 관심이 없어요😍  또롱이 진지 페이스 첨본다 😘   산책하고 졸려서 그래 🤣🤣 ㅋㅋㅋㅋ  어마👍🏻👍🏻👍🏻👍🏻 짱 귀여워요 ❤️❤️ 솜씨에 놀라고 갑니다 😍😍😍 또롱이와 잘 어울려요 ❤️❤️   귀엽죠~ 온라인클래스라 집에서 하는데 넘 재밌어요 ㅋㅋ나중에 단체샷도 올릴게요😍  우와~~~넘 귀여워요~😍온라인클래스가 있군요~👍   이런거 관심있으시면 한번 봐보세요~  클래스101 이라는 앱에 별게 다 있어요 ㅎㅎㅎ   오~~좋은 정보 감사합니다~👍  너무 귀엽당 ㅋㅋ 금손이라 잘 만든거죠? 난 못하겠찌😭?   저 첨에 하다가 막 던질뻔..🤣 근데 첨에만 어렵고 재밌어요!! 초보도 다 하니까 규동이언니도 할수이쯤!! 인형이 넘 귀여워서 두번째 중급클래스도 신청했다구여 ㅋㅋㅋ💕  선인장넘이뿌네요! 온라인클래스라면 저도 배워보고싶네요👍   예쁜 토끼랑 사람인형이랑 동물들이랑~ 엄청많아요! 애기들 애착인형으로도 좋대요ㅎㅎ 태교 겸 취미 겸 많이 하시는거 같았어요😍  저 후기 사진이랑 프로필 사진보고 찾았어요!! 스토커 같🙈🤣🤣🤣🤣🤣\\n저보다 좋아요 많은거 같아요?! 😆😆😆😆😆👍👍👍   ㅋㅋㅋㅋㅋㅋㅋㅋㅋ 귀여운 방해꾼 🙈 창작인형 기다리고 있을께여!! 👍👍👍💕💕💕   넹❤️ 또롱이를 한번 ! 떠보겠습니닷!🐶   오앙🙈👍👍👍👍👍  아 이뻐 또롱이 메롱 왤케 귀엽나용😘\n"
     ]
    }
   ],
   "source": [
    "word = new_df['comment_text'][2]\n",
    "print(word)"
   ]
  },
  {
   "cell_type": "code",
   "execution_count": 15,
   "metadata": {
    "collapsed": true
   },
   "outputs": [
    {
     "data": {
      "text/plain": [
       "['👍',\n",
       " '😆',\n",
       " '😍',\n",
       " '😘',\n",
       " '👍🏻👍🏻👍🏻👍🏻',\n",
       " '❤',\n",
       " '❤',\n",
       " '😍😍😍',\n",
       " '❤',\n",
       " '❤',\n",
       " '😍',\n",
       " '😍',\n",
       " '👍',\n",
       " '👍',\n",
       " '😭',\n",
       " '💕',\n",
       " '👍',\n",
       " '😍',\n",
       " '🙈',\n",
       " '😆😆😆😆😆👍👍👍',\n",
       " '🙈',\n",
       " '👍👍👍💕💕💕',\n",
       " '❤',\n",
       " '🐶',\n",
       " '🙈👍👍👍👍👍',\n",
       " '😘']"
      ]
     },
     "execution_count": 15,
     "metadata": {},
     "output_type": "execute_result"
    }
   ],
   "source": [
    "re.findall(\"[\"\n",
    "        u\"\\U0001F600-\\U0001F64F\"  # emoticons\n",
    "        u\"\\U0001F300-\\U0001F5FF\"  # symbols & pictographs\n",
    "        u\"\\U0001F680-\\U0001F6FF\"  # transport & map symbols\n",
    "        u\"\\U0001F1E0-\\U0001F1FF\"  # flags (iOS)\n",
    "        u\"\\U0001F1F2-\\U0001F1F4\"  # Macau flag\n",
    "        u\"\\U0001F1E6-\\U0001F1FF\"  # flags\n",
    "        u\"\\U0001F600-\\U0001F64F\"\n",
    "        u\"\\U00002702-\\U000027B0\"\n",
    "#        u\"\\U000024C2-\\U0001F251\" 이거 왜 한글 나오냐\n",
    "        u\"\\U0001f926-\\U0001f937\"\n",
    "        u\"\\U0001F1F2\"\n",
    "        u\"\\U0001F1F4\"\n",
    "        u\"\\U0001F620\"\n",
    "        u\"\\u200d\"\n",
    "        u\"\\u2640-\\u2642\"\n",
    "        \"]+\", word, flags = re.UNICODE)"
   ]
  },
  {
   "cell_type": "code",
   "execution_count": 16,
   "metadata": {},
   "outputs": [],
   "source": [
    "#다른 방법도 시도. \n",
    "\n",
    "import emoji\n",
    "import functools\n",
    "import operator"
   ]
  },
  {
   "cell_type": "markdown",
   "metadata": {
    "collapsed": true
   },
   "source": [
    "emoji.get_emoji_regexp()"
   ]
  },
  {
   "cell_type": "code",
   "execution_count": 18,
   "metadata": {},
   "outputs": [],
   "source": [
    "a = ['🔥', '💕', '💛', '💛', '👏👏👏', '❤']"
   ]
  },
  {
   "cell_type": "code",
   "execution_count": 19,
   "metadata": {},
   "outputs": [
    {
     "data": {
      "text/plain": [
       "['👏👏👏']"
      ]
     },
     "execution_count": 19,
     "metadata": {},
     "output_type": "execute_result"
    }
   ],
   "source": [
    "a[4].split('U')"
   ]
  },
  {
   "cell_type": "code",
   "execution_count": 20,
   "metadata": {},
   "outputs": [],
   "source": [
    "s = '👏'"
   ]
  },
  {
   "cell_type": "code",
   "execution_count": 21,
   "metadata": {},
   "outputs": [
    {
     "name": "stdout",
     "output_type": "stream",
     "text": [
      "👏\n"
     ]
    }
   ],
   "source": [
    "print(s)"
   ]
  },
  {
   "cell_type": "code",
   "execution_count": 22,
   "metadata": {},
   "outputs": [
    {
     "name": "stdout",
     "output_type": "stream",
     "text": [
      "['Hey', '😷', '😷', '😷']\n"
     ]
    }
   ],
   "source": [
    "#split이 가능하네... python은 안되는게 없나..\n",
    "\n",
    "\n",
    "em = 'Hey 😷😷😷'\n",
    "em_split_emoji = emoji.get_emoji_regexp().split(em)\n",
    "em_split_whitespace = [substr.split() for substr in em_split_emoji]\n",
    "em_split = functools.reduce(operator.concat, em_split_whitespace)\n",
    "\n",
    "print(em_split)"
   ]
  }
 ],
 "metadata": {
  "kernelspec": {
   "display_name": "Python 3",
   "language": "python",
   "name": "python3"
  },
  "language_info": {
   "codemirror_mode": {
    "name": "ipython",
    "version": 3
   },
   "file_extension": ".py",
   "mimetype": "text/x-python",
   "name": "python",
   "nbconvert_exporter": "python",
   "pygments_lexer": "ipython3",
   "version": "3.6.8"
  }
 },
 "nbformat": 4,
 "nbformat_minor": 2
}
